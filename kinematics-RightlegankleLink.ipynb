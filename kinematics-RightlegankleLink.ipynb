{
 "cells": [
  {
   "cell_type": "code",
   "execution_count": 1,
   "metadata": {},
   "outputs": [],
   "source": [
    "import sympy as sp\n",
    "import numpy as np\n"
   ]
  },
  {
   "cell_type": "code",
   "execution_count": null,
   "metadata": {},
   "outputs": [],
   "source": []
  },
  {
   "cell_type": "code",
   "execution_count": 2,
   "metadata": {},
   "outputs": [],
   "source": [
    "from sympy.physics.vector import init_vprinting\n",
    "init_vprinting(use_latex='mathjax', pretty_print=False)"
   ]
  },
  {
   "cell_type": "code",
   "execution_count": 3,
   "metadata": {},
   "outputs": [],
   "source": [
    "from sympy.physics.mechanics import dynamicsymbols"
   ]
  },
  {
   "cell_type": "code",
   "execution_count": 4,
   "metadata": {},
   "outputs": [],
   "source": [
    "theta0,theta1, theta2,theta3,theta4,Ch,A_r,B_r,H, theta, alpha, a, d = dynamicsymbols('theta0 theta1 theta2 theta3 theta4  Ch A_r B_r H theta alpha a d')\n"
   ]
  },
  {
   "cell_type": "code",
   "execution_count": 5,
   "metadata": {
    "scrolled": true
   },
   "outputs": [
    {
     "data": {
      "text/latex": [
       "$\\displaystyle \\left[\\begin{matrix}\\operatorname{cos}\\left(\\theta\\right) & - \\operatorname{sin}\\left(\\theta\\right) \\operatorname{cos}\\left(\\alpha\\right) & \\operatorname{sin}\\left(\\alpha\\right) \\operatorname{sin}\\left(\\theta\\right) & a \\operatorname{cos}\\left(\\theta\\right)\\\\\\operatorname{sin}\\left(\\theta\\right) & \\operatorname{cos}\\left(\\alpha\\right) \\operatorname{cos}\\left(\\theta\\right) & - \\operatorname{sin}\\left(\\alpha\\right) \\operatorname{cos}\\left(\\theta\\right) & a \\operatorname{sin}\\left(\\theta\\right)\\\\0 & \\operatorname{sin}\\left(\\alpha\\right) & \\operatorname{cos}\\left(\\alpha\\right) & d\\\\0 & 0 & 0 & 1\\end{matrix}\\right]$"
      ],
      "text/plain": [
       "Matrix([\n",
       "[cos(theta), -sin(theta)*cos(alpha),  sin(alpha)*sin(theta), a*cos(theta)],\n",
       "[sin(theta),  cos(alpha)*cos(theta), -sin(alpha)*cos(theta), a*sin(theta)],\n",
       "[         0,             sin(alpha),             cos(alpha),            d],\n",
       "[         0,                      0,                      0,            1]])"
      ]
     },
     "execution_count": 5,
     "metadata": {},
     "output_type": "execute_result"
    }
   ],
   "source": [
    "rot = sp.Matrix([[sp.cos(theta), -sp.sin(theta)*sp.cos(alpha), sp.sin(theta)*sp.sin(alpha)],\n",
    "                 [sp.sin(theta), sp.cos(theta)*sp.cos(alpha), -sp.cos(theta)*sp.sin(alpha)],\n",
    "                 [0, sp.sin(alpha), sp.cos(alpha)]])\n",
    "\n",
    "trans = sp.Matrix([a*sp.cos(theta),a*sp.sin(theta),d])\n",
    "\n",
    "last_row = sp.Matrix([[0, 0, 0, 1]])\n",
    "\n",
    "m = sp.Matrix.vstack(sp.Matrix.hstack(rot, trans), last_row)\n",
    "m"
   ]
  },
  {
   "cell_type": "code",
   "execution_count": 6,
   "metadata": {},
   "outputs": [],
   "source": [
    "t_0=sp.pi/2\n",
    "t_1=-sp.pi/2\n",
    "t_2=0\n",
    "t_3=0\n"
   ]
  },
  {
   "cell_type": "code",
   "execution_count": 7,
   "metadata": {},
   "outputs": [],
   "source": [
    "m00=sp.Matrix([[1,0,0,0],\n",
    "                 [0,1,0,0],\n",
    "                 [0,0,1,0],\n",
    "                 [0,0,0,1]])\n",
    "m_00=m00"
   ]
  },
  {
   "cell_type": "code",
   "execution_count": 8,
   "metadata": {},
   "outputs": [
    {
     "data": {
      "text/latex": [
       "$\\displaystyle \\left[\\begin{matrix}- \\operatorname{sin}\\left(\\theta_{0}\\right) & 0 & \\operatorname{cos}\\left(\\theta_{0}\\right) & Ch \\operatorname{sin}\\left(\\theta_{0}\\right)\\\\\\operatorname{cos}\\left(\\theta_{0}\\right) & 0 & \\operatorname{sin}\\left(\\theta_{0}\\right) & - Ch \\operatorname{cos}\\left(\\theta_{0}\\right)\\\\0 & 1 & 0 & 0\\\\0 & 0 & 0 & 1\\end{matrix}\\right]$"
      ],
      "text/plain": [
       "Matrix([\n",
       "[-sin(theta0), 0, cos(theta0),  Ch*sin(theta0)],\n",
       "[ cos(theta0), 0, sin(theta0), -Ch*cos(theta0)],\n",
       "[           0, 1,           0,               0],\n",
       "[           0, 0,           0,               1]])"
      ]
     },
     "execution_count": 8,
     "metadata": {},
     "output_type": "execute_result"
    }
   ],
   "source": [
    "m01 = m.subs({alpha:sp.pi/2, a:-Ch, theta:t_0+theta0, d:-0})\n",
    "\n",
    "m01"
   ]
  },
  {
   "cell_type": "code",
   "execution_count": 9,
   "metadata": {},
   "outputs": [
    {
     "data": {
      "text/latex": [
       "$\\displaystyle \\left[\\begin{matrix}0 & 0 & 1 & 0\\\\1 & 0 & 0 & - Ch\\\\0 & 1 & 0 & 0\\\\0 & 0 & 0 & 1\\end{matrix}\\right]$"
      ],
      "text/plain": [
       "Matrix([\n",
       "[0, 0, 1,   0],\n",
       "[1, 0, 0, -Ch],\n",
       "[0, 1, 0,   0],\n",
       "[0, 0, 0,   1]])"
      ]
     },
     "execution_count": 9,
     "metadata": {},
     "output_type": "execute_result"
    }
   ],
   "source": [
    "t0=0\n",
    "m_01=m01.subs({theta0:t0})\n",
    "m_01\n"
   ]
  },
  {
   "cell_type": "code",
   "execution_count": 10,
   "metadata": {},
   "outputs": [
    {
     "data": {
      "text/latex": [
       "$\\displaystyle \\left[\\begin{matrix}\\operatorname{sin}\\left(\\theta_{1}\\right) & 0 & - \\operatorname{cos}\\left(\\theta_{1}\\right) & 0\\\\- \\operatorname{cos}\\left(\\theta_{1}\\right) & 0 & - \\operatorname{sin}\\left(\\theta_{1}\\right) & 0\\\\0 & 1 & 0 & 0\\\\0 & 0 & 0 & 1\\end{matrix}\\right]$"
      ],
      "text/plain": [
       "Matrix([\n",
       "[ sin(theta1), 0, -cos(theta1), 0],\n",
       "[-cos(theta1), 0, -sin(theta1), 0],\n",
       "[           0, 1,            0, 0],\n",
       "[           0, 0,            0, 1]])"
      ]
     },
     "execution_count": 10,
     "metadata": {},
     "output_type": "execute_result"
    }
   ],
   "source": [
    "m12 = m.subs({alpha:sp.pi/2, a:0, theta:t_1+theta1, d:0})\n",
    "m12\n"
   ]
  },
  {
   "cell_type": "code",
   "execution_count": 11,
   "metadata": {},
   "outputs": [
    {
     "data": {
      "text/latex": [
       "$\\displaystyle \\left[\\begin{matrix}\\operatorname{cos}\\left(\\theta_{2}\\right) & - \\operatorname{sin}\\left(\\theta_{2}\\right) & 0 & A_{r} \\operatorname{cos}\\left(\\theta_{2}\\right)\\\\\\operatorname{sin}\\left(\\theta_{2}\\right) & \\operatorname{cos}\\left(\\theta_{2}\\right) & 0 & A_{r} \\operatorname{sin}\\left(\\theta_{2}\\right)\\\\0 & 0 & 1 & 0\\\\0 & 0 & 0 & 1\\end{matrix}\\right]$"
      ],
      "text/plain": [
       "Matrix([\n",
       "[cos(theta2), -sin(theta2), 0, A_r*cos(theta2)],\n",
       "[sin(theta2),  cos(theta2), 0, A_r*sin(theta2)],\n",
       "[          0,            0, 1,               0],\n",
       "[          0,            0, 0,               1]])"
      ]
     },
     "execution_count": 11,
     "metadata": {},
     "output_type": "execute_result"
    }
   ],
   "source": [
    "m23 = m.subs({alpha:0, a:A_r, theta:t_2+theta2, d:0})\n",
    "m23"
   ]
  },
  {
   "cell_type": "code",
   "execution_count": 12,
   "metadata": {},
   "outputs": [
    {
     "data": {
      "text/latex": [
       "$\\displaystyle \\left[\\begin{matrix}\\operatorname{cos}\\left(\\theta_{3}\\right) & - \\operatorname{sin}\\left(\\theta_{3}\\right) & 0 & B_{r} \\operatorname{cos}\\left(\\theta_{3}\\right)\\\\\\operatorname{sin}\\left(\\theta_{3}\\right) & \\operatorname{cos}\\left(\\theta_{3}\\right) & 0 & B_{r} \\operatorname{sin}\\left(\\theta_{3}\\right)\\\\0 & 0 & 1 & 0\\\\0 & 0 & 0 & 1\\end{matrix}\\right]$"
      ],
      "text/plain": [
       "Matrix([\n",
       "[cos(theta3), -sin(theta3), 0, B_r*cos(theta3)],\n",
       "[sin(theta3),  cos(theta3), 0, B_r*sin(theta3)],\n",
       "[          0,            0, 1,               0],\n",
       "[          0,            0, 0,               1]])"
      ]
     },
     "execution_count": 12,
     "metadata": {},
     "output_type": "execute_result"
    }
   ],
   "source": [
    "m34 = m.subs({alpha:0, a:B_r, theta:t_3+theta3,d:0})\n",
    "m34"
   ]
  },
  {
   "cell_type": "markdown",
   "metadata": {},
   "source": [
    "m04=m0*m34"
   ]
  },
  {
   "cell_type": "code",
   "execution_count": null,
   "metadata": {},
   "outputs": [],
   "source": []
  },
  {
   "cell_type": "code",
   "execution_count": 13,
   "metadata": {},
   "outputs": [
    {
     "name": "stdout",
     "output_type": "stream",
     "text": [
      "0.6 -0.6 -0.8\n"
     ]
    },
    {
     "data": {
      "text/plain": [
       "<Figure size 640x480 with 1 Axes>"
      ]
     },
     "metadata": {},
     "output_type": "display_data"
    },
    {
     "data": {
      "text/plain": [
       "<Figure size 640x480 with 1 Axes>"
      ]
     },
     "metadata": {},
     "output_type": "display_data"
    }
   ],
   "source": [
    "t0=0\n",
    "t1=0\n",
    "t2=0\n",
    "t3=sp.pi/2\n",
    "\n",
    "\n",
    "\n",
    "c=0.6\n",
    "ar=0.8\n",
    "br=0.6\n",
    "h=5\n",
    "\n",
    "m_01=m01.subs({theta0:t0,theta1:t1,theta2:t2, theta3:t3,Ch:c,A_r:ar, B_r:br,H:h})\n",
    "m_01\n",
    "m02=m01*m12\n",
    "m_02=m02.subs({theta0:t0,theta1:t1,theta2:t2, theta3:t3,Ch:c,A_r:ar, B_r:br,H:h})\n",
    "m_02\n",
    "m03=m01*m12*m23\n",
    "m_03=m03.subs({theta0:t0,theta1:t1,theta2:t2, theta3:t3,Ch:c,A_r:ar, B_r:br,H:h})\n",
    "m_03\n",
    "\n",
    "m04=m01*m12*m23*m34\n",
    "m_04=m04.subs({theta0:t0,theta1:t1,theta2:t2, theta3:t3,Ch:c,A_r:ar, B_r:br,H:h})\n",
    "m_04\n",
    "\n",
    "\n",
    "\n",
    "\n",
    "import matplotlib.pyplot as plt\n",
    "from mpl_toolkits.mplot3d import axes3d\n",
    "import numpy as np\n",
    "fig = plt.figure()\n",
    "ax = plt.axes(projection='3d')\n",
    "\n",
    "\n",
    "x = [m_00[0,3],m_01[0,3],m_02[0,3],m_03[0,3],m_04[0,3]]\n",
    "y = [m_00[1,3],m_01[1,3],m_02[1,3],m_03[1,3],m_04[1,3]]\n",
    "z = [m_00[2,3],m_01[2,3],m_02[2,3],m_03[2,3],m_04[2,3]]\n",
    "ax.plot3D(x,y, z)\n",
    "print(float(m_04[0,3]),float(m_04[1,3]),float(m_04[2,3]))\n",
    "#ax.scatter3D(x, y, z, c=z, cmap='Greens');\n",
    "ax.set_xlabel('xaxis')\n",
    "ax.set_ylabel('yaxis')\n",
    "ax.set_zlabel('z-axis')\n",
    "\n",
    "plt.show()\n",
    "\n",
    "fig2 = plt.figure()\n",
    "plt.plot(x,y)\n",
    "plt.show()\n",
    "fig3 = plt.figure()\n",
    "plt.plot(y,z)\n",
    "plt.show()\n",
    "fig4 = plt.figure()\n",
    "plt.plot(z,x)\n",
    "plt.show()"
   ]
  },
  {
   "cell_type": "code",
   "execution_count": 14,
   "metadata": {},
   "outputs": [
    {
     "ename": "NameError",
     "evalue": "name 'm0a' is not defined",
     "output_type": "error",
     "traceback": [
      "\u001b[0;31m---------------------------------------------------------------------------\u001b[0m",
      "\u001b[0;31mNameError\u001b[0m                                 Traceback (most recent call last)",
      "\u001b[0;32m<ipython-input-14-4f1b6feb21f5>\u001b[0m in \u001b[0;36m<module>\u001b[0;34m\u001b[0m\n\u001b[0;32m----> 1\u001b[0;31m \u001b[0mm__0a\u001b[0m\u001b[0;34m=\u001b[0m\u001b[0mm0a\u001b[0m\u001b[0;34m.\u001b[0m\u001b[0msubs\u001b[0m\u001b[0;34m(\u001b[0m\u001b[0;34m{\u001b[0m\u001b[0mtheta0\u001b[0m\u001b[0;34m:\u001b[0m\u001b[0;36m0\u001b[0m\u001b[0;34m,\u001b[0m\u001b[0mtheta2\u001b[0m\u001b[0;34m:\u001b[0m\u001b[0msp\u001b[0m\u001b[0;34m.\u001b[0m\u001b[0mpi\u001b[0m\u001b[0;34m/\u001b[0m\u001b[0;36m2\u001b[0m\u001b[0;34m}\u001b[0m\u001b[0;34m)\u001b[0m\u001b[0;34m\u001b[0m\u001b[0m\n\u001b[0m\u001b[1;32m      2\u001b[0m \u001b[0mm__0a\u001b[0m\u001b[0;34m\u001b[0m\u001b[0m\n",
      "\u001b[0;31mNameError\u001b[0m: name 'm0a' is not defined"
     ]
    }
   ],
   "source": [
    "m__0a=m0a.subs({theta0:0,theta2:sp.pi/2})\n",
    "m__0a"
   ]
  },
  {
   "cell_type": "code",
   "execution_count": null,
   "metadata": {},
   "outputs": [],
   "source": []
  },
  {
   "cell_type": "code",
   "execution_count": 15,
   "metadata": {},
   "outputs": [
    {
     "data": {
      "text/latex": [
       "$\\displaystyle \\left[\\begin{matrix}\\operatorname{sin}\\left(\\theta_{2}\\right) \\operatorname{cos}\\left(\\theta_{3}\\right) + \\operatorname{sin}\\left(\\theta_{3}\\right) \\operatorname{cos}\\left(\\theta_{2}\\right) & - \\operatorname{sin}\\left(\\theta_{2}\\right) \\operatorname{sin}\\left(\\theta_{3}\\right) + \\operatorname{cos}\\left(\\theta_{2}\\right) \\operatorname{cos}\\left(\\theta_{3}\\right) & 0 & A_{r} \\operatorname{sin}\\left(\\theta_{2}\\right) + B_{r} \\operatorname{sin}\\left(\\theta_{2}\\right) \\operatorname{cos}\\left(\\theta_{3}\\right) + B_{r} \\operatorname{sin}\\left(\\theta_{3}\\right) \\operatorname{cos}\\left(\\theta_{2}\\right)\\\\- \\operatorname{sin}\\left(\\theta_{1}\\right) \\operatorname{sin}\\left(\\theta_{2}\\right) \\operatorname{sin}\\left(\\theta_{3}\\right) + \\operatorname{sin}\\left(\\theta_{1}\\right) \\operatorname{cos}\\left(\\theta_{2}\\right) \\operatorname{cos}\\left(\\theta_{3}\\right) & - \\operatorname{sin}\\left(\\theta_{1}\\right) \\operatorname{sin}\\left(\\theta_{2}\\right) \\operatorname{cos}\\left(\\theta_{3}\\right) - \\operatorname{sin}\\left(\\theta_{1}\\right) \\operatorname{sin}\\left(\\theta_{3}\\right) \\operatorname{cos}\\left(\\theta_{2}\\right) & - \\operatorname{cos}\\left(\\theta_{1}\\right) & A_{r} \\operatorname{sin}\\left(\\theta_{1}\\right) \\operatorname{cos}\\left(\\theta_{2}\\right) - B_{r} \\operatorname{sin}\\left(\\theta_{1}\\right) \\operatorname{sin}\\left(\\theta_{2}\\right) \\operatorname{sin}\\left(\\theta_{3}\\right) + B_{r} \\operatorname{sin}\\left(\\theta_{1}\\right) \\operatorname{cos}\\left(\\theta_{2}\\right) \\operatorname{cos}\\left(\\theta_{3}\\right) - Ch\\\\\\operatorname{sin}\\left(\\theta_{2}\\right) \\operatorname{sin}\\left(\\theta_{3}\\right) \\operatorname{cos}\\left(\\theta_{1}\\right) - \\operatorname{cos}\\left(\\theta_{1}\\right) \\operatorname{cos}\\left(\\theta_{2}\\right) \\operatorname{cos}\\left(\\theta_{3}\\right) & \\operatorname{sin}\\left(\\theta_{2}\\right) \\operatorname{cos}\\left(\\theta_{1}\\right) \\operatorname{cos}\\left(\\theta_{3}\\right) + \\operatorname{sin}\\left(\\theta_{3}\\right) \\operatorname{cos}\\left(\\theta_{1}\\right) \\operatorname{cos}\\left(\\theta_{2}\\right) & - \\operatorname{sin}\\left(\\theta_{1}\\right) & - A_{r} \\operatorname{cos}\\left(\\theta_{1}\\right) \\operatorname{cos}\\left(\\theta_{2}\\right) + B_{r} \\operatorname{sin}\\left(\\theta_{2}\\right) \\operatorname{sin}\\left(\\theta_{3}\\right) \\operatorname{cos}\\left(\\theta_{1}\\right) - B_{r} \\operatorname{cos}\\left(\\theta_{1}\\right) \\operatorname{cos}\\left(\\theta_{2}\\right) \\operatorname{cos}\\left(\\theta_{3}\\right)\\\\0 & 0 & 0 & 1\\end{matrix}\\right]$"
      ],
      "text/plain": [
       "Matrix([\n",
       "[                         sin(theta2)*cos(theta3) + sin(theta3)*cos(theta2),                         -sin(theta2)*sin(theta3) + cos(theta2)*cos(theta3),            0,                                          A_r*sin(theta2) + B_r*sin(theta2)*cos(theta3) + B_r*sin(theta3)*cos(theta2)],\n",
       "[-sin(theta1)*sin(theta2)*sin(theta3) + sin(theta1)*cos(theta2)*cos(theta3), -sin(theta1)*sin(theta2)*cos(theta3) - sin(theta1)*sin(theta3)*cos(theta2), -cos(theta1), A_r*sin(theta1)*cos(theta2) - B_r*sin(theta1)*sin(theta2)*sin(theta3) + B_r*sin(theta1)*cos(theta2)*cos(theta3) - Ch],\n",
       "[ sin(theta2)*sin(theta3)*cos(theta1) - cos(theta1)*cos(theta2)*cos(theta3),  sin(theta2)*cos(theta1)*cos(theta3) + sin(theta3)*cos(theta1)*cos(theta2), -sin(theta1),     -A_r*cos(theta1)*cos(theta2) + B_r*sin(theta2)*sin(theta3)*cos(theta1) - B_r*cos(theta1)*cos(theta2)*cos(theta3)],\n",
       "[                                                                         0,                                                                          0,            0,                                                                                                                    1]])"
      ]
     },
     "execution_count": 15,
     "metadata": {},
     "output_type": "execute_result"
    }
   ],
   "source": [
    "m__04=m04.subs({theta0:0})\n",
    "m__04"
   ]
  },
  {
   "cell_type": "code",
   "execution_count": 26,
   "metadata": {},
   "outputs": [
    {
     "data": {
      "text/latex": [
       "$\\displaystyle \\left[\\begin{matrix}-0.478256655949238 & 0.764289585320608 & -0.432587564327392 & 0.681023620851782\\\\-0.836491100263911 & -0.546467690450405 & -0.0406903240718496 & -1.69292433625128\\\\-0.267494318106991 & 0.342395229324612 & 0.900673246364197 & 0.277715481141842\\\\0 & 0 & 0 & 1\\end{matrix}\\right]$"
      ],
      "text/plain": [
       "Matrix([\n",
       "[-0.478256655949238,  0.764289585320608,  -0.432587564327392, 0.681023620851782],\n",
       "[-0.836491100263911, -0.546467690450405, -0.0406903240718496, -1.69292433625128],\n",
       "[-0.267494318106991,  0.342395229324612,   0.900673246364197, 0.277715481141842],\n",
       "[                 0,                  0,                   0,                 1]])"
      ]
     },
     "execution_count": 26,
     "metadata": {},
     "output_type": "execute_result"
    }
   ],
   "source": [
    "t0=0\n",
    "t1=-1.88495559\n",
    "t2=-1.274090\n",
    "t3=-1.431169986\n",
    "t4=0.6981317007977318\n",
    "\n",
    "\n",
    "m_0a=m0a.subs({theta0:t0,theta1:t1,theta2:t2, theta3:t3,theta4:t4,Ch:c,A_r:ar, B_r:br,H:h})\n",
    "m_0a"
   ]
  },
  {
   "cell_type": "code",
   "execution_count": 18,
   "metadata": {},
   "outputs": [
    {
     "data": {
      "text/latex": [
       "$\\displaystyle \\left[\\begin{matrix}-1 & 0 & 0 & 0\\\\0 & 0 & 1 & -0.6\\\\0 & 1 & 0 & 0\\\\0 & 0 & 0 & 1\\end{matrix}\\right]$"
      ],
      "text/plain": [
       "Matrix([\n",
       "[-1, 0, 0,    0],\n",
       "[ 0, 0, 1, -0.6],\n",
       "[ 0, 1, 0,    0],\n",
       "[ 0, 0, 0,    1]])"
      ]
     },
     "execution_count": 18,
     "metadata": {},
     "output_type": "execute_result"
    }
   ],
   "source": [
    "t0=0\n",
    "t1=0\n",
    "t2=0\n",
    "t3=0\n",
    "t4=-sp.pi/2\n",
    "\n",
    "m_01=m01.subs({theta0:t0,theta1:t1,theta2:t2, theta3:t3,theta4:t4,Ch:c,A_r:ar, B_r:br,H:h})\n",
    "m_01"
   ]
  },
  {
   "cell_type": "code",
   "execution_count": 19,
   "metadata": {},
   "outputs": [
    {
     "data": {
      "text/latex": [
       "$\\displaystyle \\left[\\begin{matrix}0 & 0 & 1 & 0\\\\0 & 1 & 0 & -0.6\\\\-1 & 0 & 0 & 0\\\\0 & 0 & 0 & 1\\end{matrix}\\right]$"
      ],
      "text/plain": [
       "Matrix([\n",
       "[ 0, 0, 1,    0],\n",
       "[ 0, 1, 0, -0.6],\n",
       "[-1, 0, 0,    0],\n",
       "[ 0, 0, 0,    1]])"
      ]
     },
     "execution_count": 19,
     "metadata": {},
     "output_type": "execute_result"
    }
   ],
   "source": [
    "t0=0\n",
    "t1=0\n",
    "t2=0\n",
    "t3=0\n",
    "t4=-sp.pi/2\n",
    "\n",
    "m_02=m02.subs({theta0:t0,theta1:t1,theta2:t2, theta3:t3,theta4:t4,Ch:c,A_r:ar, B_r:br,H:h})\n",
    "m_02"
   ]
  },
  {
   "cell_type": "code",
   "execution_count": 20,
   "metadata": {},
   "outputs": [
    {
     "data": {
      "text/latex": [
       "$\\displaystyle \\left[\\begin{matrix}0 & 1 & 0 & 0\\\\1 & 0 & 0 & -0.6\\\\0 & 0 & -1 & 0\\\\0 & 0 & 0 & 1\\end{matrix}\\right]$"
      ],
      "text/plain": [
       "Matrix([\n",
       "[0, 1,  0,    0],\n",
       "[1, 0,  0, -0.6],\n",
       "[0, 0, -1,    0],\n",
       "[0, 0,  0,    1]])"
      ]
     },
     "execution_count": 20,
     "metadata": {},
     "output_type": "execute_result"
    }
   ],
   "source": [
    "t0=0\n",
    "t1=0\n",
    "t2=0\n",
    "t3=0\n",
    "t4=-sp.pi/2\n",
    "\n",
    "m_03=m03.subs({theta0:t0,theta1:t1,theta2:t2, theta3:t3,theta4:t4,Ch:c,A_r:ar, B_r:br,H:h})\n",
    "m_03"
   ]
  },
  {
   "cell_type": "code",
   "execution_count": 22,
   "metadata": {},
   "outputs": [
    {
     "data": {
      "text/latex": [
       "$\\displaystyle \\left[\\begin{matrix}-1 & 0 & 0 & 0\\\\0 & 0 & -1 & -0.6\\\\0 & -1 & 0 & -0.8\\\\0 & 0 & 0 & 1\\end{matrix}\\right]$"
      ],
      "text/plain": [
       "Matrix([\n",
       "[-1,  0,  0,    0],\n",
       "[ 0,  0, -1, -0.6],\n",
       "[ 0, -1,  0, -0.8],\n",
       "[ 0,  0,  0,    1]])"
      ]
     },
     "execution_count": 22,
     "metadata": {},
     "output_type": "execute_result"
    }
   ],
   "source": [
    "t0=0\n",
    "t1=0\n",
    "t2=0\n",
    "t3=0\n",
    "t4=-sp.pi/2\n",
    "\n",
    "m_04=m04.subs({theta0:t0,theta1:t1,theta2:t2, theta3:t3,theta4:t4,Ch:c,A_r:ar, B_r:br,H:h})\n",
    "m_04"
   ]
  },
  {
   "cell_type": "code",
   "execution_count": null,
   "metadata": {},
   "outputs": [],
   "source": []
  },
  {
   "cell_type": "code",
   "execution_count": null,
   "metadata": {},
   "outputs": [],
   "source": []
  },
  {
   "cell_type": "code",
   "execution_count": null,
   "metadata": {},
   "outputs": [],
   "source": []
  }
 ],
 "metadata": {
  "kernelspec": {
   "display_name": "Python 3",
   "language": "python",
   "name": "python3"
  },
  "language_info": {
   "codemirror_mode": {
    "name": "ipython",
    "version": 3
   },
   "file_extension": ".py",
   "mimetype": "text/x-python",
   "name": "python",
   "nbconvert_exporter": "python",
   "pygments_lexer": "ipython3",
   "version": "3.5.2"
  }
 },
 "nbformat": 4,
 "nbformat_minor": 2
}
