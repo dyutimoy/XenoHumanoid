{
 "cells": [
  {
   "cell_type": "code",
   "execution_count": 4,
   "metadata": {},
   "outputs": [],
   "source": [
    "import sympy as sp\n",
    "import numpy as np\n"
   ]
  },
  {
   "cell_type": "code",
   "execution_count": 5,
   "metadata": {},
   "outputs": [],
   "source": [
    "from sympy.physics.vector import init_vprinting\n",
    "init_vprinting(use_latex='mathjax', pretty_print=False)"
   ]
  },
  {
   "cell_type": "code",
   "execution_count": 6,
   "metadata": {},
   "outputs": [],
   "source": [
    "from sympy.physics.mechanics import dynamicsymbols"
   ]
  },
  {
   "cell_type": "code",
   "execution_count": 7,
   "metadata": {},
   "outputs": [
    {
     "data": {
      "text/latex": [
       "$\\displaystyle \\left( \\theta_{1}, \\  \\theta_{2}, \\  \\theta_{3}, \\  \\theta_{4}, \\  \\theta_{5}, \\  \\theta_{6}, \\  \\theta_{7}, \\  \\theta_{8}, \\  \\theta_{9}, \\  \\theta_{10}, \\  \\theta_{11}, \\  d_{6}, \\  L_{Cl}, \\  L_{Tl}, \\  W_{l}, \\  W_{r}, \\  L_{Tr}, \\  L_{Cr}, \\  \\theta, \\  \\alpha, \\  a, \\  d\\right)$"
      ],
      "text/plain": [
       "(theta1, theta2, theta3, theta4, theta5, theta6, theta7, theta8, theta9, theta10, theta11, d_6, L_Cl, L_Tl, W_l, W_r, L_Tr, L_Cr, theta, alpha, a, d)"
      ]
     },
     "execution_count": 7,
     "metadata": {},
     "output_type": "execute_result"
    }
   ],
   "source": [
    "theta1, theta2,theta3,theta4,theta5,theta6,theta7,theta8,theta9,theta10,theta11,d_6,L_Cl, L_Tl, W_l, W_r, L_Tr, L_Cr, theta, alpha, a, d = dynamicsymbols('theta1 theta2 theta3 theta4 theta5 theta6 theta7 theta8 theta9 theta10 theta11 d_6 L_Cl L_Tl W_l W_r L_Tr L_Cr theta alpha a d')\n",
    "theta1,theta2,theta3,theta4,theta5,theta6,theta7,theta8,theta9,theta10,theta11,d_6,L_Cl, L_Tl, W_l, W_r, L_Tr, L_Cr, theta, alpha, a, d "
   ]
  },
  {
   "cell_type": "code",
   "execution_count": 8,
   "metadata": {},
   "outputs": [
    {
     "data": {
      "text/latex": [
       "$\\displaystyle \\left[\\begin{matrix}\\operatorname{cos}\\left(\\theta\\right) & - \\operatorname{sin}\\left(\\theta\\right) \\operatorname{cos}\\left(\\alpha\\right) & \\operatorname{sin}\\left(\\alpha\\right) \\operatorname{sin}\\left(\\theta\\right) & a \\operatorname{cos}\\left(\\theta\\right)\\\\\\operatorname{sin}\\left(\\theta\\right) & \\operatorname{cos}\\left(\\alpha\\right) \\operatorname{cos}\\left(\\theta\\right) & - \\operatorname{sin}\\left(\\alpha\\right) \\operatorname{cos}\\left(\\theta\\right) & a \\operatorname{sin}\\left(\\theta\\right)\\\\0 & \\operatorname{sin}\\left(\\alpha\\right) & \\operatorname{cos}\\left(\\alpha\\right) & d\\\\0 & 0 & 0 & 1\\end{matrix}\\right]$"
      ],
      "text/plain": [
       "Matrix([\n",
       "[cos(theta), -sin(theta)*cos(alpha),  sin(alpha)*sin(theta), a*cos(theta)],\n",
       "[sin(theta),  cos(alpha)*cos(theta), -sin(alpha)*cos(theta), a*sin(theta)],\n",
       "[         0,             sin(alpha),             cos(alpha),            d],\n",
       "[         0,                      0,                      0,            1]])"
      ]
     },
     "execution_count": 8,
     "metadata": {},
     "output_type": "execute_result"
    }
   ],
   "source": [
    "rot = sp.Matrix([[sp.cos(theta), -sp.sin(theta)*sp.cos(alpha), sp.sin(theta)*sp.sin(alpha)],\n",
    "                 [sp.sin(theta), sp.cos(theta)*sp.cos(alpha), -sp.cos(theta)*sp.sin(alpha)],\n",
    "                 [0, sp.sin(alpha), sp.cos(alpha)]])\n",
    "\n",
    "trans = sp.Matrix([a*sp.cos(theta),a*sp.sin(theta),d])\n",
    "\n",
    "last_row = sp.Matrix([[0, 0, 0, 1]])\n",
    "\n",
    "m = sp.Matrix.vstack(sp.Matrix.hstack(rot, trans), last_row)\n",
    "m"
   ]
  },
  {
   "cell_type": "code",
   "execution_count": 9,
   "metadata": {},
   "outputs": [
    {
     "data": {
      "text/latex": [
       "$\\displaystyle \\left[\\begin{matrix}\\operatorname{cos}\\left(\\theta_{1}\\right) & 0 & \\operatorname{sin}\\left(\\theta_{1}\\right) & 0\\\\\\operatorname{sin}\\left(\\theta_{1}\\right) & 0 & - \\operatorname{cos}\\left(\\theta_{1}\\right) & 0\\\\0 & 1 & 0 & 0\\\\0 & 0 & 0 & 1\\end{matrix}\\right]$"
      ],
      "text/plain": [
       "Matrix([\n",
       "[cos(theta1), 0,  sin(theta1), 0],\n",
       "[sin(theta1), 0, -cos(theta1), 0],\n",
       "[          0, 1,            0, 0],\n",
       "[          0, 0,            0, 1]])"
      ]
     },
     "execution_count": 9,
     "metadata": {},
     "output_type": "execute_result"
    }
   ],
   "source": [
    "m01 = m.subs({alpha:sp.pi/2, a:0, theta:theta1, d:0})\n",
    "m01"
   ]
  },
  {
   "cell_type": "code",
   "execution_count": 10,
   "metadata": {},
   "outputs": [
    {
     "data": {
      "text/latex": [
       "$\\displaystyle \\left[\\begin{matrix}-1 & 0 & 0 & 0\\\\0 & 0 & 1 & 0\\\\0 & 1 & 0 & 0\\\\0 & 0 & 0 & 1\\end{matrix}\\right]$"
      ],
      "text/plain": [
       "Matrix([\n",
       "[-1, 0, 0, 0],\n",
       "[ 0, 0, 1, 0],\n",
       "[ 0, 1, 0, 0],\n",
       "[ 0, 0, 0, 1]])"
      ]
     },
     "execution_count": 10,
     "metadata": {},
     "output_type": "execute_result"
    }
   ],
   "source": [
    "m_01=m01.subs({theta1:sp.pi})\n",
    "m_01"
   ]
  },
  {
   "cell_type": "code",
   "execution_count": 11,
   "metadata": {},
   "outputs": [
    {
     "data": {
      "text/latex": [
       "$\\displaystyle \\left[\\begin{matrix}\\operatorname{cos}\\left(\\theta_{2}\\right) & 0 & \\operatorname{sin}\\left(\\theta_{2}\\right) & 0\\\\\\operatorname{sin}\\left(\\theta_{2}\\right) & 0 & - \\operatorname{cos}\\left(\\theta_{2}\\right) & 0\\\\0 & 1 & 0 & 0\\\\0 & 0 & 0 & 1\\end{matrix}\\right]$"
      ],
      "text/plain": [
       "Matrix([\n",
       "[cos(theta2), 0,  sin(theta2), 0],\n",
       "[sin(theta2), 0, -cos(theta2), 0],\n",
       "[          0, 1,            0, 0],\n",
       "[          0, 0,            0, 1]])"
      ]
     },
     "execution_count": 11,
     "metadata": {},
     "output_type": "execute_result"
    }
   ],
   "source": [
    "m12 = m.subs({alpha:sp.pi/2, a:0, theta:theta2, d:0})\n",
    "m12\n"
   ]
  },
  {
   "cell_type": "code",
   "execution_count": 12,
   "metadata": {},
   "outputs": [
    {
     "data": {
      "text/latex": [
       "$\\displaystyle \\left[\\begin{matrix}0 & 0 & 1 & 0\\\\0 & 1 & 0 & 0\\\\-1 & 0 & 0 & 0\\\\0 & 0 & 0 & 1\\end{matrix}\\right]$"
      ],
      "text/plain": [
       "Matrix([\n",
       "[ 0, 0, 1, 0],\n",
       "[ 0, 1, 0, 0],\n",
       "[-1, 0, 0, 0],\n",
       "[ 0, 0, 0, 1]])"
      ]
     },
     "execution_count": 12,
     "metadata": {},
     "output_type": "execute_result"
    }
   ],
   "source": [
    "m02=m01*m12\n",
    "m_02=m02.subs({theta1:sp.pi,theta2:-sp.pi/2})\n",
    "m_02"
   ]
  },
  {
   "cell_type": "code",
   "execution_count": 13,
   "metadata": {},
   "outputs": [
    {
     "data": {
      "text/latex": [
       "$\\displaystyle \\left[\\begin{matrix}\\operatorname{cos}\\left(\\theta_{3}\\right) & 0 & \\operatorname{sin}\\left(\\theta_{3}\\right) & L_{Cl} \\operatorname{cos}\\left(\\theta_{3}\\right)\\\\\\operatorname{sin}\\left(\\theta_{3}\\right) & 0 & - \\operatorname{cos}\\left(\\theta_{3}\\right) & L_{Cl} \\operatorname{sin}\\left(\\theta_{3}\\right)\\\\0 & 1 & 0 & 0\\\\0 & 0 & 0 & 1\\end{matrix}\\right]$"
      ],
      "text/plain": [
       "Matrix([\n",
       "[cos(theta3), 0,  sin(theta3), L_Cl*cos(theta3)],\n",
       "[sin(theta3), 0, -cos(theta3), L_Cl*sin(theta3)],\n",
       "[          0, 1,            0,                0],\n",
       "[          0, 0,            0,                1]])"
      ]
     },
     "execution_count": 13,
     "metadata": {},
     "output_type": "execute_result"
    }
   ],
   "source": [
    "m23 = m.subs({alpha:sp.pi/2, a:L_Cl, theta:theta3, d:0})\n",
    "m23"
   ]
  },
  {
   "cell_type": "code",
   "execution_count": 14,
   "metadata": {},
   "outputs": [
    {
     "data": {
      "text/latex": [
       "$\\displaystyle \\left[\\begin{matrix}0 & 1 & 0 & 0\\\\0 & 0 & 1 & 0\\\\1 & 0 & 0 & 50\\\\0 & 0 & 0 & 1\\end{matrix}\\right]$"
      ],
      "text/plain": [
       "Matrix([\n",
       "[0, 1, 0,  0],\n",
       "[0, 0, 1,  0],\n",
       "[1, 0, 0, 50],\n",
       "[0, 0, 0,  1]])"
      ]
     },
     "execution_count": 14,
     "metadata": {},
     "output_type": "execute_result"
    }
   ],
   "source": [
    "m03=m02*m23\n",
    "m_03=m03.subs({theta1:sp.pi,theta2:-sp.pi/2, theta3:sp.pi,theta4:0,theta5:sp.pi,theta6:-sp.pi/2,theta7:sp.pi,theta8:-sp.pi/2,theta9:0,theta10:sp.pi,theta11:sp.pi,d_6:12,L_Cl:50, L_Tl:50, W_l:30, W_r:30, L_Tr:50, L_Cr:50})\n",
    "m_03"
   ]
  },
  {
   "cell_type": "code",
   "execution_count": 15,
   "metadata": {},
   "outputs": [
    {
     "data": {
      "text/latex": [
       "$\\displaystyle \\left[\\begin{matrix}\\operatorname{cos}\\left(\\theta_{4}\\right) & - \\operatorname{sin}\\left(\\theta_{4}\\right) & 0 & 50 \\operatorname{cos}\\left(\\theta_{4}\\right)\\\\\\operatorname{sin}\\left(\\theta_{4}\\right) & \\operatorname{cos}\\left(\\theta_{4}\\right) & 0 & 50 \\operatorname{sin}\\left(\\theta_{4}\\right)\\\\0 & 0 & 1 & 0\\\\0 & 0 & 0 & 1\\end{matrix}\\right]$"
      ],
      "text/plain": [
       "Matrix([\n",
       "[cos(theta4), -sin(theta4), 0, 50*cos(theta4)],\n",
       "[sin(theta4),  cos(theta4), 0, 50*sin(theta4)],\n",
       "[          0,            0, 1,              0],\n",
       "[          0,            0, 0,              1]])"
      ]
     },
     "execution_count": 15,
     "metadata": {},
     "output_type": "execute_result"
    }
   ],
   "source": [
    "m34 = m.subs({alpha:0, a:50, theta:theta4,d:0})\n",
    "m34"
   ]
  },
  {
   "cell_type": "markdown",
   "metadata": {},
   "source": [
    "m04=m0*m34"
   ]
  },
  {
   "cell_type": "code",
   "execution_count": 63,
   "metadata": {},
   "outputs": [
    {
     "data": {
      "text/latex": [
       "$\\displaystyle \\left[\\begin{matrix}0 & 1 & 0 & 0\\\\0 & 0 & 1 & 0\\\\1 & 0 & 0 & 100\\\\0 & 0 & 0 & 1\\end{matrix}\\right]$"
      ],
      "text/plain": [
       "Matrix([\n",
       "[0, 1, 0,   0],\n",
       "[0, 0, 1,   0],\n",
       "[1, 0, 0, 100],\n",
       "[0, 0, 0,   1]])"
      ]
     },
     "execution_count": 63,
     "metadata": {},
     "output_type": "execute_result"
    }
   ],
   "source": [
    "m04=m03*m34\n",
    "m_04=m04.subs({theta1:sp.pi,theta2:-sp.pi/2, theta3:sp.pi,theta4:0,theta5:sp.pi,theta6:-sp.pi/2,theta7:sp.pi,theta8:-sp.pi/2,theta9:0,theta10:sp.pi,theta11:sp.pi,d_6:12,L_Cl:50, L_Tl:50, W_l:30, W_r:30, L_Tr:50, L_Cr:50})\n",
    "m_04"
   ]
  },
  {
   "cell_type": "code",
   "execution_count": 16,
   "metadata": {},
   "outputs": [
    {
     "data": {
      "text/latex": [
       "$\\displaystyle \\left[\\begin{matrix}\\operatorname{cos}\\left(\\theta_{5}\\right) & 0 & \\operatorname{sin}\\left(\\theta_{5}\\right) & 0\\\\\\operatorname{sin}\\left(\\theta_{5}\\right) & 0 & - \\operatorname{cos}\\left(\\theta_{5}\\right) & 0\\\\0 & 1 & 0 & 0\\\\0 & 0 & 0 & 1\\end{matrix}\\right]$"
      ],
      "text/plain": [
       "Matrix([\n",
       "[cos(theta5), 0,  sin(theta5), 0],\n",
       "[sin(theta5), 0, -cos(theta5), 0],\n",
       "[          0, 1,            0, 0],\n",
       "[          0, 0,            0, 1]])"
      ]
     },
     "execution_count": 16,
     "metadata": {},
     "output_type": "execute_result"
    }
   ],
   "source": [
    "m45 = m.subs({alpha:sp.pi/2, a:0, theta:theta5, d:0})\n",
    "m45"
   ]
  },
  {
   "cell_type": "code",
   "execution_count": 64,
   "metadata": {},
   "outputs": [
    {
     "data": {
      "text/latex": [
       "$\\displaystyle \\left[\\begin{matrix}0 & 0 & 1 & 0\\\\0 & 1 & 0 & 0\\\\-1 & 0 & 0 & 100\\\\0 & 0 & 0 & 1\\end{matrix}\\right]$"
      ],
      "text/plain": [
       "Matrix([\n",
       "[ 0, 0, 1,   0],\n",
       "[ 0, 1, 0,   0],\n",
       "[-1, 0, 0, 100],\n",
       "[ 0, 0, 0,   1]])"
      ]
     },
     "execution_count": 64,
     "metadata": {},
     "output_type": "execute_result"
    }
   ],
   "source": [
    "m05=m04*m45\n",
    "m_05=m05.subs({theta1:sp.pi,theta2:-sp.pi/2, theta3:sp.pi,theta4:0,theta5:sp.pi,theta6:-sp.pi/2,theta7:sp.pi,theta8:-sp.pi/2,theta9:0,theta10:sp.pi,theta11:sp.pi,d_6:12,L_Cl:50, L_Tl:50, W_l:30, W_r:30, L_Tr:50, L_Cr:50})\n",
    "m_05"
   ]
  },
  {
   "cell_type": "code",
   "execution_count": null,
   "metadata": {},
   "outputs": [],
   "source": []
  },
  {
   "cell_type": "code",
   "execution_count": 56,
   "metadata": {},
   "outputs": [
    {
     "data": {
      "text/latex": [
       "$\\displaystyle \\left[\\begin{matrix}\\operatorname{cos}\\left(\\theta_{6}\\right) & 0 & \\operatorname{sin}\\left(\\theta_{6}\\right) & W_{l} \\operatorname{cos}\\left(\\theta_{6}\\right)\\\\\\operatorname{sin}\\left(\\theta_{6}\\right) & 0 & - \\operatorname{cos}\\left(\\theta_{6}\\right) & W_{l} \\operatorname{sin}\\left(\\theta_{6}\\right)\\\\0 & 1 & 0 & 12\\\\0 & 0 & 0 & 1\\end{matrix}\\right]$"
      ],
      "text/plain": [
       "Matrix([\n",
       "[cos(theta6), 0,  sin(theta6), W_l*cos(theta6)],\n",
       "[sin(theta6), 0, -cos(theta6), W_l*sin(theta6)],\n",
       "[          0, 1,            0,              12],\n",
       "[          0, 0,            0,               1]])"
      ]
     },
     "execution_count": 56,
     "metadata": {},
     "output_type": "execute_result"
    }
   ],
   "source": [
    "m56 = m.subs({alpha:sp.pi/2, a:W_l, theta:theta6, d:12})\n",
    "m56"
   ]
  },
  {
   "cell_type": "code",
   "execution_count": 65,
   "metadata": {},
   "outputs": [
    {
     "data": {
      "text/latex": [
       "$\\displaystyle \\left[\\begin{matrix}0 & 1 & 0 & 12\\\\-1 & 0 & 0 & -30\\\\0 & 0 & 1 & 100\\\\0 & 0 & 0 & 1\\end{matrix}\\right]$"
      ],
      "text/plain": [
       "Matrix([\n",
       "[ 0, 1, 0,  12],\n",
       "[-1, 0, 0, -30],\n",
       "[ 0, 0, 1, 100],\n",
       "[ 0, 0, 0,   1]])"
      ]
     },
     "execution_count": 65,
     "metadata": {},
     "output_type": "execute_result"
    }
   ],
   "source": [
    "m06=m05*m56\n",
    "m_06=m06.subs({theta1:sp.pi,theta2:-sp.pi/2, theta3:sp.pi,theta4:0,theta5:sp.pi,theta6:-sp.pi/2,theta7:sp.pi,theta8:-sp.pi/2,theta9:0,theta10:sp.pi,theta11:sp.pi,d_6:12,L_Cl:50, L_Tl:50, W_l:30, W_r:30, L_Tr:50, L_Cr:50})\n",
    "m_06"
   ]
  },
  {
   "cell_type": "code",
   "execution_count": 54,
   "metadata": {},
   "outputs": [
    {
     "ename": "NameError",
     "evalue": "name 's' is not defined",
     "output_type": "error",
     "traceback": [
      "\u001b[0;31m---------------------------------------------------------------------------\u001b[0m",
      "\u001b[0;31mNameError\u001b[0m                                 Traceback (most recent call last)",
      "\u001b[0;32m<ipython-input-54-87f1a9295992>\u001b[0m in \u001b[0;36m<module>\u001b[0;34m\u001b[0m\n\u001b[1;32m      1\u001b[0m \u001b[0mm06\u001b[0m\u001b[0;34m=\u001b[0m\u001b[0mm03\u001b[0m\u001b[0;34m*\u001b[0m\u001b[0mm34\u001b[0m\u001b[0;34m*\u001b[0m\u001b[0mm45\u001b[0m\u001b[0;34m*\u001b[0m\u001b[0mm56\u001b[0m\u001b[0;34m\u001b[0m\u001b[0;34m\u001b[0m\u001b[0m\n\u001b[0;32m----> 2\u001b[0;31m \u001b[0mm_06\u001b[0m\u001b[0;34m=\u001b[0m\u001b[0mm06\u001b[0m\u001b[0;34m.\u001b[0m\u001b[0msubs\u001b[0m\u001b[0;34m(\u001b[0m\u001b[0;34m{\u001b[0m\u001b[0mtheta1\u001b[0m\u001b[0;34m:\u001b[0m\u001b[0msp\u001b[0m\u001b[0;34m.\u001b[0m\u001b[0mpi\u001b[0m\u001b[0;34m,\u001b[0m\u001b[0mtheta2\u001b[0m\u001b[0;34m:\u001b[0m\u001b[0;34m-\u001b[0m\u001b[0msp\u001b[0m\u001b[0;34m.\u001b[0m\u001b[0mpi\u001b[0m\u001b[0;34m/\u001b[0m\u001b[0;36m2\u001b[0m\u001b[0;34m,\u001b[0m \u001b[0mtheta3\u001b[0m\u001b[0;34m:\u001b[0m\u001b[0msp\u001b[0m\u001b[0;34m.\u001b[0m\u001b[0mpi\u001b[0m\u001b[0;34m,\u001b[0m\u001b[0mtheta4\u001b[0m\u001b[0;34m:\u001b[0m\u001b[0;36m0\u001b[0m\u001b[0;34m,\u001b[0m\u001b[0mtheta5\u001b[0m\u001b[0;34m:\u001b[0m\u001b[0msp\u001b[0m\u001b[0;34m.\u001b[0m\u001b[0mpi\u001b[0m\u001b[0;34m,\u001b[0m\u001b[0mtheta6\u001b[0m\u001b[0;34m:\u001b[0m\u001b[0;34m-\u001b[0m\u001b[0msp\u001b[0m\u001b[0;34m.\u001b[0m\u001b[0mpi\u001b[0m\u001b[0;34m/\u001b[0m\u001b[0;36m2\u001b[0m\u001b[0;34m,\u001b[0m\u001b[0mtheta7\u001b[0m\u001b[0;34m:\u001b[0m\u001b[0msp\u001b[0m\u001b[0;34m.\u001b[0m\u001b[0mpi\u001b[0m\u001b[0;34m,\u001b[0m\u001b[0mtheta8\u001b[0m\u001b[0;34m:\u001b[0m\u001b[0ms\u001b[0m\u001b[0;34m-\u001b[0m\u001b[0mp\u001b[0m\u001b[0;34m.\u001b[0m\u001b[0mpi\u001b[0m\u001b[0;34m/\u001b[0m\u001b[0;36m2\u001b[0m\u001b[0;34m,\u001b[0m\u001b[0mtheta9\u001b[0m\u001b[0;34m:\u001b[0m\u001b[0;36m0\u001b[0m\u001b[0;34m,\u001b[0m\u001b[0mtheta10\u001b[0m\u001b[0;34m:\u001b[0m\u001b[0msp\u001b[0m\u001b[0;34m.\u001b[0m\u001b[0mpi\u001b[0m\u001b[0;34m,\u001b[0m\u001b[0mtheta11\u001b[0m\u001b[0;34m:\u001b[0m\u001b[0msp\u001b[0m\u001b[0;34m.\u001b[0m\u001b[0mpi\u001b[0m\u001b[0;34m,\u001b[0m\u001b[0md_6\u001b[0m\u001b[0;34m:\u001b[0m\u001b[0;36m12\u001b[0m\u001b[0;34m,\u001b[0m\u001b[0mL_Cl\u001b[0m\u001b[0;34m:\u001b[0m\u001b[0;36m50\u001b[0m\u001b[0;34m,\u001b[0m \u001b[0mL_Tl\u001b[0m\u001b[0;34m:\u001b[0m\u001b[0;36m50\u001b[0m\u001b[0;34m,\u001b[0m \u001b[0mW_l\u001b[0m\u001b[0;34m:\u001b[0m\u001b[0;36m30\u001b[0m\u001b[0;34m,\u001b[0m \u001b[0mW_r\u001b[0m\u001b[0;34m:\u001b[0m\u001b[0;36m30\u001b[0m\u001b[0;34m,\u001b[0m \u001b[0mL_Tr\u001b[0m\u001b[0;34m:\u001b[0m\u001b[0;36m50\u001b[0m\u001b[0;34m,\u001b[0m \u001b[0mL_Cr\u001b[0m\u001b[0;34m:\u001b[0m\u001b[0;36m50\u001b[0m\u001b[0;34m}\u001b[0m\u001b[0;34m)\u001b[0m\u001b[0;34m\u001b[0m\u001b[0;34m\u001b[0m\u001b[0m\n\u001b[0m\u001b[1;32m      3\u001b[0m \u001b[0mm_06\u001b[0m\u001b[0;34m\u001b[0m\u001b[0;34m\u001b[0m\u001b[0m\n",
      "\u001b[0;31mNameError\u001b[0m: name 's' is not defined"
     ]
    }
   ],
   "source": [
    "m06=m03*m34*m45*m56\n",
    "m_06=m06.subs({theta1:sp.pi,theta2:-sp.pi/2, theta3:sp.pi,theta4:0,theta5:sp.pi,theta6:-sp.pi/2,theta7:sp.pi,theta8:s-p.pi/2,theta9:0,theta10:sp.pi,theta11:sp.pi,d_6:12,L_Cl:50, L_Tl:50, W_l:30, W_r:30, L_Tr:50, L_Cr:50})\n",
    "m_06"
   ]
  },
  {
   "cell_type": "code",
   "execution_count": null,
   "metadata": {},
   "outputs": [],
   "source": []
  },
  {
   "cell_type": "code",
   "execution_count": 19,
   "metadata": {},
   "outputs": [
    {
     "data": {
      "text/latex": [
       "$\\displaystyle \\left[\\begin{matrix}\\operatorname{cos}\\left(\\theta_{7}\\right) & 0 & \\operatorname{sin}\\left(\\theta_{7}\\right) & - W_{r} \\operatorname{cos}\\left(\\theta_{7}\\right)\\\\\\operatorname{sin}\\left(\\theta_{7}\\right) & 0 & - \\operatorname{cos}\\left(\\theta_{7}\\right) & - W_{r} \\operatorname{sin}\\left(\\theta_{7}\\right)\\\\0 & 1 & 0 & 0\\\\0 & 0 & 0 & 1\\end{matrix}\\right]$"
      ],
      "text/plain": [
       "Matrix([\n",
       "[cos(theta7), 0,  sin(theta7), -W_r*cos(theta7)],\n",
       "[sin(theta7), 0, -cos(theta7), -W_r*sin(theta7)],\n",
       "[          0, 1,            0,                0],\n",
       "[          0, 0,            0,                1]])"
      ]
     },
     "execution_count": 19,
     "metadata": {},
     "output_type": "execute_result"
    }
   ],
   "source": [
    "m67 = m.subs({alpha:sp.pi/2, a:-W_r, theta:theta7, d:0})\n",
    "m67\n"
   ]
  },
  {
   "cell_type": "code",
   "execution_count": 20,
   "metadata": {},
   "outputs": [
    {
     "data": {
      "text/latex": [
       "$\\displaystyle \\left[\\begin{matrix}\\operatorname{cos}\\left(\\theta_{7}\\right) & 0 & - \\operatorname{sin}\\left(\\theta_{7}\\right) & - W_{r} \\operatorname{cos}\\left(\\theta_{7}\\right)\\\\- \\operatorname{sin}\\left(\\theta_{7}\\right) & 0 & - \\operatorname{cos}\\left(\\theta_{7}\\right) & W_{r} \\operatorname{sin}\\left(\\theta_{7}\\right)\\\\0 & 1 & 0 & d_{6}\\\\0 & 0 & 0 & 1\\end{matrix}\\right]$"
      ],
      "text/plain": [
       "Matrix([\n",
       "[ cos(theta7), 0, -sin(theta7), -W_r*cos(theta7)],\n",
       "[-sin(theta7), 0, -cos(theta7),  W_r*sin(theta7)],\n",
       "[           0, 1,            0,              d_6],\n",
       "[           0, 0,            0,                1]])"
      ]
     },
     "execution_count": 20,
     "metadata": {},
     "output_type": "execute_result"
    }
   ],
   "source": [
    "m76=m.subs({alpha:sp.pi/2,a:-W_r,theta:-theta7,d:d_6})\n",
    "m76\n"
   ]
  },
  {
   "cell_type": "code",
   "execution_count": 21,
   "metadata": {},
   "outputs": [
    {
     "data": {
      "text/latex": [
       "$\\displaystyle \\left[\\begin{matrix}- \\frac{\\operatorname{sin}^{2}\\left(\\theta_{7}\\right) - 1}{\\operatorname{cos}\\left(\\theta_{7}\\right)} & - \\operatorname{sin}\\left(\\theta_{7}\\right) & 0 & W_{r}\\\\0 & 0 & 1 & - d_{6}\\\\- \\operatorname{sin}\\left(\\theta_{7}\\right) & - \\operatorname{cos}\\left(\\theta_{7}\\right) & 0 & 0\\\\0 & 0 & 0 & 1\\end{matrix}\\right]$"
      ],
      "text/plain": [
       "Matrix([\n",
       "[-(sin(theta7)**2 - 1)/cos(theta7), -sin(theta7), 0,  W_r],\n",
       "[                                0,            0, 1, -d_6],\n",
       "[                     -sin(theta7), -cos(theta7), 0,    0],\n",
       "[                                0,            0, 0,    1]])"
      ]
     },
     "execution_count": 21,
     "metadata": {},
     "output_type": "execute_result"
    }
   ],
   "source": [
    "m67=m76.inv()\n",
    "m67"
   ]
  },
  {
   "cell_type": "code",
   "execution_count": 22,
   "metadata": {},
   "outputs": [
    {
     "data": {
      "text/latex": [
       "$\\displaystyle \\left[\\begin{matrix}0 & 0 & 1 & 0\\\\1 & 0 & 0 & -60\\\\0 & 1 & 0 & 100\\\\0 & 0 & 0 & 1\\end{matrix}\\right]$"
      ],
      "text/plain": [
       "Matrix([\n",
       "[0, 0, 1,   0],\n",
       "[1, 0, 0, -60],\n",
       "[0, 1, 0, 100],\n",
       "[0, 0, 0,   1]])"
      ]
     },
     "execution_count": 22,
     "metadata": {},
     "output_type": "execute_result"
    }
   ],
   "source": [
    "m07=m06*m67\n",
    "m_07=m07.subs({theta1:sp.pi,theta2:-sp.pi/2, theta3:sp.pi,theta4:0,theta5:sp.pi,theta6:-sp.pi/2,theta7:sp.pi,theta8:-sp.pi/2,theta9:0,theta10:sp.pi,theta11:sp.pi,d_6:12,L_Cl:50, L_Tl:50, W_l:30, W_r:30, L_Tr:50, L_Cr:50})\n",
    "m_07"
   ]
  },
  {
   "cell_type": "code",
   "execution_count": 23,
   "metadata": {},
   "outputs": [
    {
     "data": {
      "text/latex": [
       "$\\displaystyle \\left[\\begin{matrix}\\operatorname{cos}\\left(\\theta_{8}\\right) & 0 & \\operatorname{sin}\\left(\\theta_{8}\\right) & 0\\\\\\operatorname{sin}\\left(\\theta_{8}\\right) & 0 & - \\operatorname{cos}\\left(\\theta_{8}\\right) & 0\\\\0 & 1 & 0 & 0\\\\0 & 0 & 0 & 1\\end{matrix}\\right]$"
      ],
      "text/plain": [
       "Matrix([\n",
       "[cos(theta8), 0,  sin(theta8), 0],\n",
       "[sin(theta8), 0, -cos(theta8), 0],\n",
       "[          0, 1,            0, 0],\n",
       "[          0, 0,            0, 1]])"
      ]
     },
     "execution_count": 23,
     "metadata": {},
     "output_type": "execute_result"
    }
   ],
   "source": [
    "m78 = m.subs({alpha:sp.pi/2, a:0, theta:theta8, d:0})\n",
    "m78"
   ]
  },
  {
   "cell_type": "code",
   "execution_count": 24,
   "metadata": {},
   "outputs": [
    {
     "data": {
      "text/latex": [
       "$\\displaystyle \\left[\\begin{matrix}0 & 1 & 0 & 0\\\\0 & 0 & -1 & -60\\\\-1 & 0 & 0 & 100\\\\0 & 0 & 0 & 1\\end{matrix}\\right]$"
      ],
      "text/plain": [
       "Matrix([\n",
       "[ 0, 1,  0,   0],\n",
       "[ 0, 0, -1, -60],\n",
       "[-1, 0,  0, 100],\n",
       "[ 0, 0,  0,   1]])"
      ]
     },
     "execution_count": 24,
     "metadata": {},
     "output_type": "execute_result"
    }
   ],
   "source": [
    "m08=m07*m78\n",
    "m_08=m08.subs({theta1:sp.pi,theta2:-sp.pi/2, theta3:sp.pi,theta4:0,theta5:sp.pi,theta6:-sp.pi/2,theta7:sp.pi,theta8:-sp.pi/2,theta9:0,theta10:sp.pi,theta11:sp.pi,d_6:12,L_Cl:50, L_Tl:50, W_l:30, W_r:30, L_Tr:50, L_Cr:50})\n",
    "m_08"
   ]
  },
  {
   "cell_type": "code",
   "execution_count": 25,
   "metadata": {},
   "outputs": [
    {
     "data": {
      "text/latex": [
       "$\\displaystyle \\left[\\begin{matrix}\\operatorname{cos}\\left(\\theta_{9}\\right) & - \\operatorname{sin}\\left(\\theta_{9}\\right) & 0 & L_{Tr} \\operatorname{cos}\\left(\\theta_{9}\\right)\\\\\\operatorname{sin}\\left(\\theta_{9}\\right) & \\operatorname{cos}\\left(\\theta_{9}\\right) & 0 & L_{Tr} \\operatorname{sin}\\left(\\theta_{9}\\right)\\\\0 & 0 & 1 & 0\\\\0 & 0 & 0 & 1\\end{matrix}\\right]$"
      ],
      "text/plain": [
       "Matrix([\n",
       "[cos(theta9), -sin(theta9), 0, L_Tr*cos(theta9)],\n",
       "[sin(theta9),  cos(theta9), 0, L_Tr*sin(theta9)],\n",
       "[          0,            0, 1,                0],\n",
       "[          0,            0, 0,                1]])"
      ]
     },
     "execution_count": 25,
     "metadata": {},
     "output_type": "execute_result"
    }
   ],
   "source": [
    "m89 = m.subs({alpha:0, a:L_Tr, theta:theta9, d:0})\n",
    "m89"
   ]
  },
  {
   "cell_type": "code",
   "execution_count": 66,
   "metadata": {},
   "outputs": [
    {
     "data": {
      "text/latex": [
       "$\\displaystyle \\left[\\begin{matrix}0 & 1 & 0 & 0\\\\0 & 0 & -1 & -60\\\\-1 & 0 & 0 & 50\\\\0 & 0 & 0 & 1\\end{matrix}\\right]$"
      ],
      "text/plain": [
       "Matrix([\n",
       "[ 0, 1,  0,   0],\n",
       "[ 0, 0, -1, -60],\n",
       "[-1, 0,  0,  50],\n",
       "[ 0, 0,  0,   1]])"
      ]
     },
     "execution_count": 66,
     "metadata": {},
     "output_type": "execute_result"
    }
   ],
   "source": [
    "m09=m08*m89\n",
    "m_09=m09.subs({theta1:sp.pi,theta2:-sp.pi/2, theta3:sp.pi,theta4:0,theta5:sp.pi,theta6:-sp.pi/2,theta7:sp.pi,theta8:-sp.pi/2,theta9:0,theta10:sp.pi,theta11:sp.pi,d_6:12,L_Cl:50, L_Tl:50, W_l:30, W_r:30, L_Tr:50, L_Cr:50})\n",
    "m_09"
   ]
  },
  {
   "cell_type": "code",
   "execution_count": 26,
   "metadata": {},
   "outputs": [
    {
     "data": {
      "text/latex": [
       "$\\displaystyle \\left[\\begin{matrix}\\operatorname{cos}\\left(\\theta_{10}\\right) & 0 & \\operatorname{sin}\\left(\\theta_{10}\\right) & - L_{Cr} \\operatorname{cos}\\left(\\theta_{10}\\right)\\\\\\operatorname{sin}\\left(\\theta_{10}\\right) & 0 & - \\operatorname{cos}\\left(\\theta_{10}\\right) & - L_{Cr} \\operatorname{sin}\\left(\\theta_{10}\\right)\\\\0 & 1 & 0 & 0\\\\0 & 0 & 0 & 1\\end{matrix}\\right]$"
      ],
      "text/plain": [
       "Matrix([\n",
       "[cos(theta10), 0,  sin(theta10), -L_Cr*cos(theta10)],\n",
       "[sin(theta10), 0, -cos(theta10), -L_Cr*sin(theta10)],\n",
       "[           0, 1,             0,                  0],\n",
       "[           0, 0,             0,                  1]])"
      ]
     },
     "execution_count": 26,
     "metadata": {},
     "output_type": "execute_result"
    }
   ],
   "source": [
    "m910 = m.subs({alpha:sp.pi/2, a:-L_Cr, theta:theta10, d:0})\n",
    "m910"
   ]
  },
  {
   "cell_type": "code",
   "execution_count": 67,
   "metadata": {},
   "outputs": [
    {
     "data": {
      "text/latex": [
       "$\\displaystyle \\left[\\begin{matrix}0 & 0 & 1 & 0\\\\0 & -1 & 0 & -60\\\\1 & 0 & 0 & 0\\\\0 & 0 & 0 & 1\\end{matrix}\\right]$"
      ],
      "text/plain": [
       "Matrix([\n",
       "[0,  0, 1,   0],\n",
       "[0, -1, 0, -60],\n",
       "[1,  0, 0,   0],\n",
       "[0,  0, 0,   1]])"
      ]
     },
     "execution_count": 67,
     "metadata": {},
     "output_type": "execute_result"
    }
   ],
   "source": [
    "m010=m09*m910\n",
    "m_010=m010.subs({theta1:sp.pi,theta2:-sp.pi/2, theta3:sp.pi,theta4:0,theta5:sp.pi,theta6:-sp.pi/2,theta7:sp.pi,theta8:-sp.pi/2,theta9:0,theta10:sp.pi,theta11:sp.pi,d_6:12,L_Cl:50, L_Tl:50, W_l:30, W_r:30, L_Tr:50, L_Cr:50})\n",
    "m_010"
   ]
  },
  {
   "cell_type": "code",
   "execution_count": 27,
   "metadata": {},
   "outputs": [
    {
     "data": {
      "text/latex": [
       "$\\displaystyle \\left[\\begin{matrix}\\operatorname{cos}\\left(\\theta_{11}\\right) & 0 & \\operatorname{sin}\\left(\\theta_{11}\\right) & 0\\\\\\operatorname{sin}\\left(\\theta_{11}\\right) & 0 & - \\operatorname{cos}\\left(\\theta_{11}\\right) & 0\\\\0 & 1 & 0 & 0\\\\0 & 0 & 0 & 1\\end{matrix}\\right]$"
      ],
      "text/plain": [
       "Matrix([\n",
       "[cos(theta11), 0,  sin(theta11), 0],\n",
       "[sin(theta11), 0, -cos(theta11), 0],\n",
       "[           0, 1,             0, 0],\n",
       "[           0, 0,             0, 1]])"
      ]
     },
     "execution_count": 27,
     "metadata": {},
     "output_type": "execute_result"
    }
   ],
   "source": [
    "m1011 = m.subs({alpha:sp.pi/2, a:0, theta:theta11, d:0})\n",
    "m1011"
   ]
  },
  {
   "cell_type": "code",
   "execution_count": null,
   "metadata": {},
   "outputs": [],
   "source": []
  },
  {
   "cell_type": "code",
   "execution_count": 28,
   "metadata": {},
   "outputs": [],
   "source": [
    "m011=(m08*m89*m910*m1011)\n"
   ]
  },
  {
   "cell_type": "code",
   "execution_count": 68,
   "metadata": {},
   "outputs": [],
   "source": [
    "m_011=m011.subs({theta1:sp.pi,theta2:-sp.pi/2, theta3:sp.pi,theta4:0,theta5:sp.pi,theta6:-sp.pi/2,theta7:sp.pi,theta8:-sp.pi/2,theta9:0,theta10:sp.pi,theta11:sp.pi,d_6:12,L_Cl:50, L_Tl:50, W_l:30, W_r:30, L_Tr:50, L_Cr:50})"
   ]
  },
  {
   "cell_type": "code",
   "execution_count": 69,
   "metadata": {},
   "outputs": [
    {
     "data": {
      "text/latex": [
       "$\\displaystyle \\left[\\begin{matrix}0 & 1 & 0 & 0\\\\0 & 0 & -1 & -60\\\\-1 & 0 & 0 & 0\\\\0 & 0 & 0 & 1\\end{matrix}\\right]$"
      ],
      "text/plain": [
       "Matrix([\n",
       "[ 0, 1,  0,   0],\n",
       "[ 0, 0, -1, -60],\n",
       "[-1, 0,  0,   0],\n",
       "[ 0, 0,  0,   1]])"
      ]
     },
     "execution_count": 69,
     "metadata": {},
     "output_type": "execute_result"
    }
   ],
   "source": [
    "val"
   ]
  },
  {
   "cell_type": "code",
   "execution_count": 73,
   "metadata": {},
   "outputs": [],
   "source": [
    "val=np.array(val).astype(np.float64)\n"
   ]
  },
  {
   "cell_type": "code",
   "execution_count": 74,
   "metadata": {},
   "outputs": [
    {
     "data": {
      "text/plain": [
       "array([[  0.,   1.,   0.,   0.],\n",
       "       [  0.,   0.,  -1., -60.],\n",
       "       [ -1.,   0.,   0.,   0.],\n",
       "       [  0.,   0.,   0.,   1.]])"
      ]
     },
     "execution_count": 74,
     "metadata": {},
     "output_type": "execute_result"
    }
   ],
   "source": [
    "val\n"
   ]
  },
  {
   "cell_type": "code",
   "execution_count": null,
   "metadata": {},
   "outputs": [],
   "source": []
  },
  {
   "cell_type": "code",
   "execution_count": 75,
   "metadata": {},
   "outputs": [
    {
     "data": {
      "image/png": "[encoded data removed]",
      "text/plain": [
       "<Figure size 432x288 with 1 Axes>"
      ]
     },
     "metadata": {
      "needs_background": "light"
     },
     "output_type": "display_data"
    }
   ],
   "source": [
    "import matplotlib.pyplot as plt\n",
    "from mpl_toolkits.mplot3d import axes3d\n",
    "import numpy as np\n",
    "fig = plt.figure()\n",
    "ax = plt.axes(projection='3d')\n",
    "\n",
    "\n",
    "x = [m_01[0,3],m_02[0,3],m_03[0,3],m_04[0,3],m_05[0,3],m_06[0,3],m_07[0,3],m_08[0,3],m_09[0,3],m_10[0,3],m_11[0,3]]\n",
    "y = [m_01[1,3],m_02[1,3],m_03[1,3],m_04[1,3],m_05[1,3],m_06[1,3],m_07[1,3],m_08[1,3],m_09[1,3],m_10[1,3],m_11[1,3]]\n",
    "z = [m_01[2,3],m_02[2,3],m_03[2,3],m_04[2,3],m_05[2,3],m_06[1,3],m_07[1,3],m_08[1,3],m_09[1,3],m_10[1,3],m_11[1,3]]\n",
    "ax.plot3D(x, y, z, 'gray')\n",
    "\n",
    "\n",
    "ax.set_xlabel('x-axis')\n",
    "ax.set_ylabel('y-axis')\n",
    "ax.set_zlabel('z-axis')\n",
    "\n",
    "plt.show()"
   ]
  },
  {
   "cell_type": "code",
   "execution_count": null,
   "metadata": {},
   "outputs": [],
   "source": []
  },
  {
   "cell_type": "code",
   "execution_count": null,
   "metadata": {},
   "outputs": [],
   "source": []
  }
 ],
 "metadata": {
  "kernelspec": {
   "display_name": "Python 3",
   "language": "python",
   "name": "python3"
  },
  "language_info": {
   "codemirror_mode": {
    "name": "ipython",
    "version": 3
   },
   "file_extension": ".py",
   "mimetype": "text/x-python",
   "name": "python",
   "nbconvert_exporter": "python",
   "pygments_lexer": "ipython3",
   "version": "3.7.3"
  }
 },
 "nbformat": 4,
 "nbformat_minor": 2
}
