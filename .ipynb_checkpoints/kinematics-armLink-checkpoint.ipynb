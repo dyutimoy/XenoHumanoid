{
 "cells": [
  {
   "cell_type": "code",
   "execution_count": 4,
   "metadata": {},
   "outputs": [],
   "source": [
    "import sympy as sp\n",
    "import numpy as np\n"
   ]
  },
  {
   "cell_type": "code",
   "execution_count": 5,
   "metadata": {},
   "outputs": [],
   "source": [
    "from sympy.physics.vector import init_vprinting\n",
    "init_vprinting(use_latex='mathjax', pretty_print=False)"
   ]
  },
  {
   "cell_type": "code",
   "execution_count": 7,
   "metadata": {},
   "outputs": [],
   "source": [
    "from sympy.physics.mechanics import dynamicsymbols"
   ]
  },
  {
   "cell_type": "code",
   "execution_count": 9,
   "metadata": {},
   "outputs": [],
   "source": [
    "theta1, theta2,theta3,theta4,theta5,theta6,theta7,theta8,theta9,theta10,theta11,theta12,theta13,theta14,Ch,A_l, B_l, A_r,B_r, theta, alpha, a, d = dynamicsymbols('theta1 theta2 theta3 theta4 theta5 theta6 theta7 theta8 theta9 theta10 theta11 theta12 theta13 theta14 Ch A_l B_l A_r B_r theta alpha a d')\n"
   ]
  },
  {
   "cell_type": "code",
   "execution_count": 11,
   "metadata": {},
   "outputs": [],
   "source": []
  },
  {
   "cell_type": "code",
   "execution_count": 12,
   "metadata": {},
   "outputs": [
    {
     "data": {
      "text/latex": [
       "$\\displaystyle \\left[\\begin{matrix}\\operatorname{cos}\\left(\\theta\\right) & - \\operatorname{sin}\\left(\\theta\\right) \\operatorname{cos}\\left(\\alpha\\right) & \\operatorname{sin}\\left(\\alpha\\right) \\operatorname{sin}\\left(\\theta\\right) & a \\operatorname{cos}\\left(\\theta\\right)\\\\\\operatorname{sin}\\left(\\theta\\right) & \\operatorname{cos}\\left(\\alpha\\right) \\operatorname{cos}\\left(\\theta\\right) & - \\operatorname{sin}\\left(\\alpha\\right) \\operatorname{cos}\\left(\\theta\\right) & a \\operatorname{sin}\\left(\\theta\\right)\\\\0 & \\operatorname{sin}\\left(\\alpha\\right) & \\operatorname{cos}\\left(\\alpha\\right) & d\\\\0 & 0 & 0 & 1\\end{matrix}\\right]$"
      ],
      "text/plain": [
       "Matrix([\n",
       "[cos(theta), -sin(theta)*cos(alpha),  sin(alpha)*sin(theta), a*cos(theta)],\n",
       "[sin(theta),  cos(alpha)*cos(theta), -sin(alpha)*cos(theta), a*sin(theta)],\n",
       "[         0,             sin(alpha),             cos(alpha),            d],\n",
       "[         0,                      0,                      0,            1]])"
      ]
     },
     "execution_count": 12,
     "metadata": {},
     "output_type": "execute_result"
    }
   ],
   "source": [
    "rot = sp.Matrix([[sp.cos(theta), -sp.sin(theta)*sp.cos(alpha), sp.sin(theta)*sp.sin(alpha)],\n",
    "                 [sp.sin(theta), sp.cos(theta)*sp.cos(alpha), -sp.cos(theta)*sp.sin(alpha)],\n",
    "                 [0, sp.sin(alpha), sp.cos(alpha)]])\n",
    "\n",
    "trans = sp.Matrix([a*sp.cos(theta),a*sp.sin(theta),d])\n",
    "\n",
    "last_row = sp.Matrix([[0, 0, 0, 1]])\n",
    "\n",
    "m = sp.Matrix.vstack(sp.Matrix.hstack(rot, trans), last_row)\n",
    "m"
   ]
  },
  {
   "cell_type": "code",
   "execution_count": 14,
   "metadata": {},
   "outputs": [
    {
     "data": {
      "text/latex": [
       "$\\displaystyle \\left[\\begin{matrix}\\operatorname{cos}\\left(\\theta_{1}\\right) & 0 & \\operatorname{sin}\\left(\\theta_{1}\\right) & 0\\\\\\operatorname{sin}\\left(\\theta_{1}\\right) & 0 & - \\operatorname{cos}\\left(\\theta_{1}\\right) & 0\\\\0 & 1 & 0 & 0\\\\0 & 0 & 0 & 1\\end{matrix}\\right]$"
      ],
      "text/plain": [
       "Matrix([\n",
       "[cos(theta1), 0,  sin(theta1), 0],\n",
       "[sin(theta1), 0, -cos(theta1), 0],\n",
       "[          0, 1,            0, 0],\n",
       "[          0, 0,            0, 1]])"
      ]
     },
     "execution_count": 14,
     "metadata": {},
     "output_type": "execute_result"
    }
   ],
   "source": [
    "m01 = m.subs({alpha:sp.pi/2, a:0, theta:theta1, d:0})\n",
    "m01"
   ]
  },
  {
   "cell_type": "code",
   "execution_count": 15,
   "metadata": {},
   "outputs": [
    {
     "data": {
      "text/latex": [
       "$\\displaystyle \\left[\\begin{matrix}1 & 0 & 0 & 0\\\\0 & 0 & -1 & 0\\\\0 & 1 & 0 & 0\\\\0 & 0 & 0 & 1\\end{matrix}\\right]$"
      ],
      "text/plain": [
       "Matrix([\n",
       "[1, 0,  0, 0],\n",
       "[0, 0, -1, 0],\n",
       "[0, 1,  0, 0],\n",
       "[0, 0,  0, 1]])"
      ]
     },
     "execution_count": 15,
     "metadata": {},
     "output_type": "execute_result"
    }
   ],
   "source": [
    "m_01=m01.subs({theta1:t1})\n",
    "m_01"
   ]
  },
  {
   "cell_type": "code",
   "execution_count": 16,
   "metadata": {},
   "outputs": [
    {
     "data": {
      "text/latex": [
       "$\\displaystyle \\left[\\begin{matrix}\\operatorname{cos}\\left(\\theta_{2}\\right) & 0 & \\operatorname{sin}\\left(\\theta_{2}\\right) & 0\\\\\\operatorname{sin}\\left(\\theta_{2}\\right) & 0 & - \\operatorname{cos}\\left(\\theta_{2}\\right) & 0\\\\0 & 1 & 0 & 0\\\\0 & 0 & 0 & 1\\end{matrix}\\right]$"
      ],
      "text/plain": [
       "Matrix([\n",
       "[cos(theta2), 0,  sin(theta2), 0],\n",
       "[sin(theta2), 0, -cos(theta2), 0],\n",
       "[          0, 1,            0, 0],\n",
       "[          0, 0,            0, 1]])"
      ]
     },
     "execution_count": 16,
     "metadata": {},
     "output_type": "execute_result"
    }
   ],
   "source": [
    "m12 = m.subs({alpha:sp.pi/2, a:0, theta:theta2, d:0})\n",
    "m12\n"
   ]
  },
  {
   "cell_type": "code",
   "execution_count": 17,
   "metadata": {},
   "outputs": [
    {
     "data": {
      "text/latex": [
       "$\\displaystyle \\left[\\begin{matrix}\\operatorname{cos}\\left(\\theta_{3}\\right) & 0 & \\operatorname{sin}\\left(\\theta_{3}\\right) & 0\\\\\\operatorname{sin}\\left(\\theta_{3}\\right) & 0 & - \\operatorname{cos}\\left(\\theta_{3}\\right) & 0\\\\0 & 1 & 0 & 0\\\\0 & 0 & 0 & 1\\end{matrix}\\right]$"
      ],
      "text/plain": [
       "Matrix([\n",
       "[cos(theta3), 0,  sin(theta3), 0],\n",
       "[sin(theta3), 0, -cos(theta3), 0],\n",
       "[          0, 1,            0, 0],\n",
       "[          0, 0,            0, 1]])"
      ]
     },
     "execution_count": 17,
     "metadata": {},
     "output_type": "execute_result"
    }
   ],
   "source": [
    "m23 = m.subs({alpha:sp.pi/2, a:0, theta:theta3, d:0})\n",
    "m23"
   ]
  },
  {
   "cell_type": "code",
   "execution_count": 18,
   "metadata": {},
   "outputs": [
    {
     "data": {
      "text/latex": [
       "$\\displaystyle \\left[\\begin{matrix}\\operatorname{cos}\\left(\\theta_{4}\\right) & 0 & \\operatorname{sin}\\left(\\theta_{4}\\right) & 0\\\\\\operatorname{sin}\\left(\\theta_{4}\\right) & 0 & - \\operatorname{cos}\\left(\\theta_{4}\\right) & 0\\\\0 & 1 & 0 & A_{l}\\\\0 & 0 & 0 & 1\\end{matrix}\\right]$"
      ],
      "text/plain": [
       "Matrix([\n",
       "[cos(theta4), 0,  sin(theta4),   0],\n",
       "[sin(theta4), 0, -cos(theta4),   0],\n",
       "[          0, 1,            0, A_l],\n",
       "[          0, 0,            0,   1]])"
      ]
     },
     "execution_count": 18,
     "metadata": {},
     "output_type": "execute_result"
    }
   ],
   "source": [
    "m34 = m.subs({alpha:sp.pi/2, a:0, theta:theta4,d:A_l})\n",
    "m34"
   ]
  },
  {
   "cell_type": "markdown",
   "metadata": {},
   "source": [
    "m04=m0*m34"
   ]
  },
  {
   "cell_type": "code",
   "execution_count": 19,
   "metadata": {},
   "outputs": [
    {
     "data": {
      "text/latex": [
       "$\\displaystyle \\left[\\begin{matrix}\\operatorname{cos}\\left(\\theta_{5}\\right) & 0 & \\operatorname{sin}\\left(\\theta_{5}\\right) & 0\\\\\\operatorname{sin}\\left(\\theta_{5}\\right) & 0 & - \\operatorname{cos}\\left(\\theta_{5}\\right) & 0\\\\0 & 1 & 0 & 0\\\\0 & 0 & 0 & 1\\end{matrix}\\right]$"
      ],
      "text/plain": [
       "Matrix([\n",
       "[cos(theta5), 0,  sin(theta5), 0],\n",
       "[sin(theta5), 0, -cos(theta5), 0],\n",
       "[          0, 1,            0, 0],\n",
       "[          0, 0,            0, 1]])"
      ]
     },
     "execution_count": 19,
     "metadata": {},
     "output_type": "execute_result"
    }
   ],
   "source": [
    "m45 = m.subs({alpha:sp.pi/2, a:0, theta:theta5, d:0})\n",
    "m45"
   ]
  },
  {
   "cell_type": "code",
   "execution_count": null,
   "metadata": {},
   "outputs": [],
   "source": []
  },
  {
   "cell_type": "code",
   "execution_count": 52,
   "metadata": {},
   "outputs": [
    {
     "data": {
      "text/latex": [
       "$\\displaystyle \\left[\\begin{matrix}\\operatorname{cos}\\left(\\theta_{6}\\right) & 0 & \\operatorname{sin}\\left(\\theta_{6}\\right) & B_{l} \\operatorname{cos}\\left(\\theta_{6}\\right)\\\\\\operatorname{sin}\\left(\\theta_{6}\\right) & 0 & - \\operatorname{cos}\\left(\\theta_{6}\\right) & B_{l} \\operatorname{sin}\\left(\\theta_{6}\\right)\\\\0 & 1 & 0 & 0\\\\0 & 0 & 0 & 1\\end{matrix}\\right]$"
      ],
      "text/plain": [
       "Matrix([\n",
       "[cos(theta6), 0,  sin(theta6), B_l*cos(theta6)],\n",
       "[sin(theta6), 0, -cos(theta6), B_l*sin(theta6)],\n",
       "[          0, 1,            0,               0],\n",
       "[          0, 0,            0,               1]])"
      ]
     },
     "execution_count": 52,
     "metadata": {},
     "output_type": "execute_result"
    }
   ],
   "source": [
    "m56 = m.subs({alpha:sp.pi/2, a:B_l, theta:theta6, d:0})\n",
    "m56"
   ]
  },
  {
   "cell_type": "code",
   "execution_count": null,
   "metadata": {},
   "outputs": [],
   "source": []
  },
  {
   "cell_type": "code",
   "execution_count": 21,
   "metadata": {},
   "outputs": [
    {
     "data": {
      "text/latex": [
       "$\\displaystyle \\left[\\begin{matrix}\\operatorname{cos}\\left(\\theta_{7}\\right) & 0 & \\operatorname{sin}\\left(\\theta_{7}\\right) & 0\\\\\\operatorname{sin}\\left(\\theta_{7}\\right) & 0 & - \\operatorname{cos}\\left(\\theta_{7}\\right) & 0\\\\0 & 1 & 0 & 0\\\\0 & 0 & 0 & 1\\end{matrix}\\right]$"
      ],
      "text/plain": [
       "Matrix([\n",
       "[cos(theta7), 0,  sin(theta7), 0],\n",
       "[sin(theta7), 0, -cos(theta7), 0],\n",
       "[          0, 1,            0, 0],\n",
       "[          0, 0,            0, 1]])"
      ]
     },
     "execution_count": 21,
     "metadata": {},
     "output_type": "execute_result"
    }
   ],
   "source": [
    "m67 = m.subs({alpha:sp.pi/2, a:0, theta:theta7, d:0})\n",
    "m67\n"
   ]
  },
  {
   "cell_type": "code",
   "execution_count": 59,
   "metadata": {},
   "outputs": [
    {
     "data": {
      "text/latex": [
       "$\\displaystyle \\left[\\begin{matrix}1 & 0 & 0 & 0\\\\0 & 1 & 0 & - Ch\\\\0 & 0 & 1 & 0\\\\0 & 0 & 0 & 1\\end{matrix}\\right]$"
      ],
      "text/plain": [
       "Matrix([\n",
       "[1, 0, 0,   0],\n",
       "[0, 1, 0, -Ch],\n",
       "[0, 0, 1,   0],\n",
       "[0, 0, 0,   1]])"
      ]
     },
     "execution_count": 59,
     "metadata": {},
     "output_type": "execute_result"
    }
   ],
   "source": [
    "m78 = sp.Matrix([[1, 0, 0,0],\n",
    "                 [0, 1,0, -Ch],\n",
    "                 [0,0,1,0],\n",
    "                 [0,0,0,1]])\n",
    "m78"
   ]
  },
  {
   "cell_type": "code",
   "execution_count": 24,
   "metadata": {},
   "outputs": [
    {
     "data": {
      "text/latex": [
       "$\\displaystyle \\left[\\begin{matrix}\\operatorname{cos}\\left(\\theta_{9}\\right) & 0 & \\operatorname{sin}\\left(\\theta_{9}\\right) & 0\\\\\\operatorname{sin}\\left(\\theta_{9}\\right) & 0 & - \\operatorname{cos}\\left(\\theta_{9}\\right) & 0\\\\0 & 1 & 0 & 0\\\\0 & 0 & 0 & 1\\end{matrix}\\right]$"
      ],
      "text/plain": [
       "Matrix([\n",
       "[cos(theta9), 0,  sin(theta9), 0],\n",
       "[sin(theta9), 0, -cos(theta9), 0],\n",
       "[          0, 1,            0, 0],\n",
       "[          0, 0,            0, 1]])"
      ]
     },
     "execution_count": 24,
     "metadata": {},
     "output_type": "execute_result"
    }
   ],
   "source": [
    "m89 = m.subs({alpha:sp.pi/2, a:0, theta:theta9, d:0})\n",
    "m89"
   ]
  },
  {
   "cell_type": "code",
   "execution_count": 28,
   "metadata": {},
   "outputs": [
    {
     "data": {
      "text/latex": [
       "$\\displaystyle \\left[\\begin{matrix}\\operatorname{cos}\\left(\\theta_{10}\\right) & 0 & \\operatorname{sin}\\left(\\theta_{10}\\right) & - B_{r} \\operatorname{cos}\\left(\\theta_{10}\\right)\\\\\\operatorname{sin}\\left(\\theta_{10}\\right) & 0 & - \\operatorname{cos}\\left(\\theta_{10}\\right) & - B_{r} \\operatorname{sin}\\left(\\theta_{10}\\right)\\\\0 & 1 & 0 & 0\\\\0 & 0 & 0 & 1\\end{matrix}\\right]$"
      ],
      "text/plain": [
       "Matrix([\n",
       "[cos(theta10), 0,  sin(theta10), -B_r*cos(theta10)],\n",
       "[sin(theta10), 0, -cos(theta10), -B_r*sin(theta10)],\n",
       "[           0, 1,             0,                 0],\n",
       "[           0, 0,             0,                 1]])"
      ]
     },
     "execution_count": 28,
     "metadata": {},
     "output_type": "execute_result"
    }
   ],
   "source": [
    "m910 = m.subs({alpha:sp.pi/2, a:-B_r, theta:theta10, d:0})\n",
    "m910"
   ]
  },
  {
   "cell_type": "code",
   "execution_count": 27,
   "metadata": {},
   "outputs": [
    {
     "data": {
      "text/latex": [
       "$\\displaystyle \\left[\\begin{matrix}\\operatorname{cos}\\left(\\theta_{11}\\right) & 0 & \\operatorname{sin}\\left(\\theta_{11}\\right) & 0\\\\\\operatorname{sin}\\left(\\theta_{11}\\right) & 0 & - \\operatorname{cos}\\left(\\theta_{11}\\right) & 0\\\\0 & 1 & 0 & 0\\\\0 & 0 & 0 & 1\\end{matrix}\\right]$"
      ],
      "text/plain": [
       "Matrix([\n",
       "[cos(theta11), 0,  sin(theta11), 0],\n",
       "[sin(theta11), 0, -cos(theta11), 0],\n",
       "[           0, 1,             0, 0],\n",
       "[           0, 0,             0, 1]])"
      ]
     },
     "execution_count": 27,
     "metadata": {},
     "output_type": "execute_result"
    }
   ],
   "source": [
    "m1011 = m.subs({alpha:sp.pi/2, a:0, theta:theta11, d:0})\n",
    "m1011m1011 = m.subs({alpha:sp.pi/2, a:0, theta:theta11, d:0})\n",
    "m1011"
   ]
  },
  {
   "cell_type": "code",
   "execution_count": 84,
   "metadata": {},
   "outputs": [
    {
     "data": {
      "text/latex": [
       "$\\displaystyle \\left[\\begin{matrix}\\operatorname{cos}\\left(\\theta_{12}\\right) & 0 & \\operatorname{sin}\\left(\\theta_{12}\\right) & 0\\\\\\operatorname{sin}\\left(\\theta_{12}\\right) & 0 & - \\operatorname{cos}\\left(\\theta_{12}\\right) & 0\\\\0 & 1 & 0 & 0\\\\0 & 0 & 0 & 1\\end{matrix}\\right]$"
      ],
      "text/plain": [
       "Matrix([\n",
       "[cos(theta12), 0,  sin(theta12), 0],\n",
       "[sin(theta12), 0, -cos(theta12), 0],\n",
       "[           0, 1,             0, 0],\n",
       "[           0, 0,             0, 1]])"
      ]
     },
     "execution_count": 84,
     "metadata": {},
     "output_type": "execute_result"
    }
   ],
   "source": [
    "m1112_ = m.subs({alpha:sp.pi/2, a:0, theta:theta12, d:0})\n",
    "m1112_\n"
   ]
  },
  {
   "cell_type": "code",
   "execution_count": 85,
   "metadata": {},
   "outputs": [
    {
     "data": {
      "text/latex": [
       "$\\displaystyle \\left[\\begin{matrix}\\operatorname{cos}\\left(\\theta_{12}\\right) & 0 & \\operatorname{sin}\\left(\\theta_{12}\\right) & - A_{r} \\operatorname{sin}\\left(\\theta_{12}\\right)\\\\\\operatorname{sin}\\left(\\theta_{12}\\right) & 0 & - \\operatorname{cos}\\left(\\theta_{12}\\right) & A_{r} \\operatorname{cos}\\left(\\theta_{12}\\right)\\\\0 & 1 & 0 & 0\\\\0 & 0 & 0 & 1\\end{matrix}\\right]$"
      ],
      "text/plain": [
       "Matrix([\n",
       "[cos(theta12), 0,  sin(theta12), -A_r*sin(theta12)],\n",
       "[sin(theta12), 0, -cos(theta12),  A_r*cos(theta12)],\n",
       "[           0, 1,             0,                 0],\n",
       "[           0, 0,             0,                 1]])"
      ]
     },
     "execution_count": 85,
     "metadata": {},
     "output_type": "execute_result"
    }
   ],
   "source": [
    "m_temp=sp.Matrix([[1, 0, 0,0],\n",
    "                 [0, 1,0, 0],\n",
    "                 [0,0,1,-A_r],\n",
    "                 [0,0,0,1]])\n",
    "m1112=m1112_*m_temp\n",
    "m1112"
   ]
  },
  {
   "cell_type": "code",
   "execution_count": 88,
   "metadata": {},
   "outputs": [
    {
     "data": {
      "text/latex": [
       "$\\displaystyle \\left[\\begin{matrix}\\operatorname{cos}\\left(\\theta_{13}\\right) & 0 & \\operatorname{sin}\\left(\\theta_{13}\\right) & 0\\\\\\operatorname{sin}\\left(\\theta_{13}\\right) & 0 & - \\operatorname{cos}\\left(\\theta_{13}\\right) & 0\\\\0 & 1 & 0 & 0\\\\0 & 0 & 0 & 1\\end{matrix}\\right]$"
      ],
      "text/plain": [
       "Matrix([\n",
       "[cos(theta13), 0,  sin(theta13), 0],\n",
       "[sin(theta13), 0, -cos(theta13), 0],\n",
       "[           0, 1,             0, 0],\n",
       "[           0, 0,             0, 1]])"
      ]
     },
     "execution_count": 88,
     "metadata": {},
     "output_type": "execute_result"
    }
   ],
   "source": [
    "m1213 = m.subs({alpha:sp.pi/2, a:0, theta:theta13, d:0})\n",
    "m1213"
   ]
  },
  {
   "cell_type": "code",
   "execution_count": 89,
   "metadata": {},
   "outputs": [
    {
     "data": {
      "text/latex": [
       "$\\displaystyle \\left[\\begin{matrix}\\operatorname{cos}\\left(\\theta_{14}\\right) & 0 & \\operatorname{sin}\\left(\\theta_{14}\\right) & 0\\\\\\operatorname{sin}\\left(\\theta_{14}\\right) & 0 & - \\operatorname{cos}\\left(\\theta_{14}\\right) & 0\\\\0 & 1 & 0 & 0\\\\0 & 0 & 0 & 1\\end{matrix}\\right]$"
      ],
      "text/plain": [
       "Matrix([\n",
       "[cos(theta14), 0,  sin(theta14), 0],\n",
       "[sin(theta14), 0, -cos(theta14), 0],\n",
       "[           0, 1,             0, 0],\n",
       "[           0, 0,             0, 1]])"
      ]
     },
     "execution_count": 89,
     "metadata": {},
     "output_type": "execute_result"
    }
   ],
   "source": [
    "m1314 = m.subs({alpha:sp.pi/2, a:0, theta:theta14, d:0})\n",
    "m1314"
   ]
  },
  {
   "cell_type": "code",
   "execution_count": 71,
   "metadata": {},
   "outputs": [],
   "source": [
    "t1=sp.pi/2\n",
    "t2=sp.pi/2\n",
    "t3=sp.pi/2\n",
    "t4=sp.pi\n",
    "t5=-sp.pi/2\n",
    "t6=sp.pi\n",
    "t7=sp.pi\n",
    "t8=0\n",
    "t9=0\n",
    "t10=sp.pi\n",
    "t11=sp.pi\n",
    "t12=-sp.pi/2\n",
    "t13=sp.pi\n",
    "t14=sp.pi/2\n",
    "c=60\n",
    "al=30\n",
    "bl=20\n",
    "ar=30\n",
    "br=20\n"
   ]
  },
  {
   "cell_type": "code",
   "execution_count": 38,
   "metadata": {},
   "outputs": [
    {
     "data": {
      "text/latex": [
       "$\\displaystyle \\left[\\begin{matrix}0 & 0 & 1 & 0\\\\1 & 0 & 0 & 0\\\\0 & 1 & 0 & 0\\\\0 & 0 & 0 & 1\\end{matrix}\\right]$"
      ],
      "text/plain": [
       "Matrix([\n",
       "[0, 0, 1, 0],\n",
       "[1, 0, 0, 0],\n",
       "[0, 1, 0, 0],\n",
       "[0, 0, 0, 1]])"
      ]
     },
     "execution_count": 38,
     "metadata": {},
     "output_type": "execute_result"
    }
   ],
   "source": [
    "m_01=m01.subs({theta1:t1,theta2:t2, theta3:t3,theta4:t4,theta5:t5,theta6:t6,theta7:t7,theta8:t8,theta9:t9,theta10:t10,theta11:t11,theta12:t12,theta13:t13,theta14:t14,Ch:c,A_l:al, B_l:bl, A_r:ar, B_r:br})\n",
    "m_01"
   ]
  },
  {
   "cell_type": "code",
   "execution_count": 39,
   "metadata": {},
   "outputs": [
    {
     "data": {
      "text/latex": [
       "$\\displaystyle \\left[\\begin{matrix}0 & 1 & 0 & 0\\\\0 & 0 & 1 & 0\\\\1 & 0 & 0 & 0\\\\0 & 0 & 0 & 1\\end{matrix}\\right]$"
      ],
      "text/plain": [
       "Matrix([\n",
       "[0, 1, 0, 0],\n",
       "[0, 0, 1, 0],\n",
       "[1, 0, 0, 0],\n",
       "[0, 0, 0, 1]])"
      ]
     },
     "execution_count": 39,
     "metadata": {},
     "output_type": "execute_result"
    }
   ],
   "source": [
    "m02=m01*m12\n",
    "m_02=m02.subs({theta1:t1,theta2:t2, theta3:t3,theta4:t4,theta5:t5,theta6:t6,theta7:t7,theta8:t8,theta9:t9,theta10:t10,theta11:t11,theta12:t12,theta13:t13,theta14:t14,Ch:c,A_l:al, B_l:bl, A_r:ar, B_r:br})\n",
    "m_02"
   ]
  },
  {
   "cell_type": "code",
   "execution_count": 44,
   "metadata": {},
   "outputs": [
    {
     "data": {
      "text/latex": [
       "$\\displaystyle \\left[\\begin{matrix}1 & 0 & 0 & 0\\\\0 & 1 & 0 & 0\\\\0 & 0 & 1 & 0\\\\0 & 0 & 0 & 1\\end{matrix}\\right]$"
      ],
      "text/plain": [
       "Matrix([\n",
       "[1, 0, 0, 0],\n",
       "[0, 1, 0, 0],\n",
       "[0, 0, 1, 0],\n",
       "[0, 0, 0, 1]])"
      ]
     },
     "execution_count": 44,
     "metadata": {},
     "output_type": "execute_result"
    }
   ],
   "source": [
    "m03=m01*m12*m23\n",
    "m_03=m03.subs({theta1:t1,theta2:t2, theta3:t3,theta4:t4,theta5:t5,theta6:t6,theta7:t7,theta8:t8,theta9:t9,theta10:t10,theta11:t11,theta12:t12,theta13:t13,theta14:t14,Ch:c,A_l:al, B_l:bl, A_r:ar, B_r:br})\n",
    "m_03"
   ]
  },
  {
   "cell_type": "code",
   "execution_count": 45,
   "metadata": {},
   "outputs": [
    {
     "data": {
      "text/latex": [
       "$\\displaystyle \\left[\\begin{matrix}-1 & 0 & 0 & 0\\\\0 & 0 & 1 & 0\\\\0 & 1 & 0 & 30\\\\0 & 0 & 0 & 1\\end{matrix}\\right]$"
      ],
      "text/plain": [
       "Matrix([\n",
       "[-1, 0, 0,  0],\n",
       "[ 0, 0, 1,  0],\n",
       "[ 0, 1, 0, 30],\n",
       "[ 0, 0, 0,  1]])"
      ]
     },
     "execution_count": 45,
     "metadata": {},
     "output_type": "execute_result"
    }
   ],
   "source": [
    "m04=m01*m12*m23*m34\n",
    "m_04=m04.subs({theta1:t1,theta2:t2, theta3:t3,theta4:t4,theta5:t5,theta6:t6,theta7:t7,theta8:t8,theta9:t9,theta10:t10,theta11:t11,theta12:t12,theta13:t13,theta14:t14,Ch:c,A_l:al, B_l:bl, A_r:ar, B_r:br})\n",
    "m_04"
   ]
  },
  {
   "cell_type": "code",
   "execution_count": 54,
   "metadata": {},
   "outputs": [
    {
     "data": {
      "text/latex": [
       "$\\displaystyle \\left[\\begin{matrix}0 & 0 & 1 & 0\\\\0 & 1 & 0 & 0\\\\-1 & 0 & 0 & 30\\\\0 & 0 & 0 & 1\\end{matrix}\\right]$"
      ],
      "text/plain": [
       "Matrix([\n",
       "[ 0, 0, 1,  0],\n",
       "[ 0, 1, 0,  0],\n",
       "[-1, 0, 0, 30],\n",
       "[ 0, 0, 0,  1]])"
      ]
     },
     "execution_count": 54,
     "metadata": {},
     "output_type": "execute_result"
    }
   ],
   "source": [
    "m05=m01*m12*m23*m34*m45\n",
    "m_05=m05.subs({theta1:t1,theta2:t2, theta3:t3,theta4:t4,theta5:t5,theta6:t6,theta7:t7,theta8:t8,theta9:t9,theta10:t10,theta11:t11,theta12:t12,theta13:t13,theta14:t14,Ch:c,A_l:al, B_l:bl, A_r:ar, B_r:br})\n",
    "m_05"
   ]
  },
  {
   "cell_type": "code",
   "execution_count": 56,
   "metadata": {},
   "outputs": [
    {
     "data": {
      "text/latex": [
       "$\\displaystyle \\left[\\begin{matrix}0 & 1 & 0 & 0\\\\0 & 0 & 1 & 0\\\\1 & 0 & 0 & 50\\\\0 & 0 & 0 & 1\\end{matrix}\\right]$"
      ],
      "text/plain": [
       "Matrix([\n",
       "[0, 1, 0,  0],\n",
       "[0, 0, 1,  0],\n",
       "[1, 0, 0, 50],\n",
       "[0, 0, 0,  1]])"
      ]
     },
     "execution_count": 56,
     "metadata": {},
     "output_type": "execute_result"
    }
   ],
   "source": [
    "m06=m01*m12*m23*m34*m45*m56\n",
    "m_06=m06.subs({theta1:t1,theta2:t2, theta3:t3,theta4:t4,theta5:t5,theta6:t6,theta7:t7,theta8:t8,theta9:t9,theta10:t10,theta11:t11,theta12:t12,theta13:t13,theta14:t14,Ch:c,A_l:al, B_l:bl, A_r:ar, B_r:br})\n",
    "m_06"
   ]
  },
  {
   "cell_type": "code",
   "execution_count": 57,
   "metadata": {},
   "outputs": [
    {
     "data": {
      "text/latex": [
       "$\\displaystyle \\left[\\begin{matrix}0 & 0 & 1 & 0\\\\0 & 1 & 0 & 0\\\\-1 & 0 & 0 & 50\\\\0 & 0 & 0 & 1\\end{matrix}\\right]$"
      ],
      "text/plain": [
       "Matrix([\n",
       "[ 0, 0, 1,  0],\n",
       "[ 0, 1, 0,  0],\n",
       "[-1, 0, 0, 50],\n",
       "[ 0, 0, 0,  1]])"
      ]
     },
     "execution_count": 57,
     "metadata": {},
     "output_type": "execute_result"
    }
   ],
   "source": [
    "m07=m01*m12*m23*m34*m45*m56*m67\n",
    "m_07=m07.subs({theta1:t1,theta2:t2, theta3:t3,theta4:t4,theta5:t5,theta6:t6,theta7:t7,theta8:t8,theta9:t9,theta10:t10,theta11:t11,theta12:t12,theta13:t13,theta14:t14,Ch:c,A_l:al, B_l:bl, A_r:ar, B_r:br})\n",
    "m_07"
   ]
  },
  {
   "cell_type": "code",
   "execution_count": 60,
   "metadata": {},
   "outputs": [
    {
     "data": {
      "text/latex": [
       "$\\displaystyle \\left[\\begin{matrix}0 & 0 & 1 & 0\\\\0 & 1 & 0 & -60\\\\-1 & 0 & 0 & 50\\\\0 & 0 & 0 & 1\\end{matrix}\\right]$"
      ],
      "text/plain": [
       "Matrix([\n",
       "[ 0, 0, 1,   0],\n",
       "[ 0, 1, 0, -60],\n",
       "[-1, 0, 0,  50],\n",
       "[ 0, 0, 0,   1]])"
      ]
     },
     "execution_count": 60,
     "metadata": {},
     "output_type": "execute_result"
    }
   ],
   "source": [
    "m08=m01*m12*m23*m34*m45*m56*m67*m78\n",
    "m_08=m08.subs({theta1:t1,theta2:t2, theta3:t3,theta4:t4,theta5:t5,theta6:t6,theta7:t7,theta8:t8,theta9:t9,theta10:t10,theta11:t11,theta12:t12,theta13:t13,theta14:t14,Ch:c,A_l:al, B_l:bl, A_r:ar, B_r:br})\n",
    "m_08"
   ]
  },
  {
   "cell_type": "code",
   "execution_count": 61,
   "metadata": {},
   "outputs": [
    {
     "data": {
      "text/latex": [
       "$\\displaystyle \\left[\\begin{matrix}0 & 1 & 0 & 0\\\\0 & 0 & -1 & -60\\\\-1 & 0 & 0 & 50\\\\0 & 0 & 0 & 1\\end{matrix}\\right]$"
      ],
      "text/plain": [
       "Matrix([\n",
       "[ 0, 1,  0,   0],\n",
       "[ 0, 0, -1, -60],\n",
       "[-1, 0,  0,  50],\n",
       "[ 0, 0,  0,   1]])"
      ]
     },
     "execution_count": 61,
     "metadata": {},
     "output_type": "execute_result"
    }
   ],
   "source": [
    "m09=m01*m12*m23*m34*m45*m56*m67*m78*m89\n",
    "m_09=m09.subs({theta1:t1,theta2:t2, theta3:t3,theta4:t4,theta5:t5,theta6:t6,theta7:t7,theta8:t8,theta9:t9,theta10:t10,theta11:t11,theta12:t12,theta13:t13,theta14:t14,Ch:c,A_l:al, B_l:bl, A_r:ar, B_r:br})\n",
    "m_09"
   ]
  },
  {
   "cell_type": "code",
   "execution_count": 62,
   "metadata": {},
   "outputs": [
    {
     "data": {
      "text/latex": [
       "$\\displaystyle \\left[\\begin{matrix}0 & 0 & 1 & 0\\\\0 & -1 & 0 & -60\\\\1 & 0 & 0 & 30\\\\0 & 0 & 0 & 1\\end{matrix}\\right]$"
      ],
      "text/plain": [
       "Matrix([\n",
       "[0,  0, 1,   0],\n",
       "[0, -1, 0, -60],\n",
       "[1,  0, 0,  30],\n",
       "[0,  0, 0,   1]])"
      ]
     },
     "execution_count": 62,
     "metadata": {},
     "output_type": "execute_result"
    }
   ],
   "source": [
    "m010=m01*m12*m23*m34*m45*m56*m67*m78*m89*m910\n",
    "m_010=m010.subs({theta1:t1,theta2:t2, theta3:t3,theta4:t4,theta5:t5,theta6:t6,theta7:t7,theta8:t8,theta9:t9,theta10:t10,theta11:t11,theta12:t12,theta13:t13,theta14:t14,Ch:c,A_l:al, B_l:bl, A_r:ar, B_r:br})\n",
    "m_010"
   ]
  },
  {
   "cell_type": "code",
   "execution_count": 63,
   "metadata": {},
   "outputs": [
    {
     "data": {
      "text/latex": [
       "$\\displaystyle \\left[\\begin{matrix}0 & 1 & 0 & 0\\\\0 & 0 & -1 & -60\\\\-1 & 0 & 0 & 30\\\\0 & 0 & 0 & 1\\end{matrix}\\right]$"
      ],
      "text/plain": [
       "Matrix([\n",
       "[ 0, 1,  0,   0],\n",
       "[ 0, 0, -1, -60],\n",
       "[-1, 0,  0,  30],\n",
       "[ 0, 0,  0,   1]])"
      ]
     },
     "execution_count": 63,
     "metadata": {},
     "output_type": "execute_result"
    }
   ],
   "source": [
    "m011=m01*m12*m23*m34*m45*m56*m67*m78*m89*m910*m1011\n",
    "m_011=m011.subs({theta1:t1,theta2:t2, theta3:t3,theta4:t4,theta5:t5,theta6:t6,theta7:t7,theta8:t8,theta9:t9,theta10:t10,theta11:t11,theta12:t12,theta13:t13,theta14:t14,Ch:c,A_l:al, B_l:bl, A_r:ar, B_r:br})\n",
    "m_011"
   ]
  },
  {
   "cell_type": "code",
   "execution_count": 86,
   "metadata": {},
   "outputs": [
    {
     "data": {
      "text/latex": [
       "$\\displaystyle \\left[\\begin{matrix}-1 & 0 & 0 & 0\\\\0 & -1 & 0 & -60\\\\0 & 0 & 1 & 0\\\\0 & 0 & 0 & 1\\end{matrix}\\right]$"
      ],
      "text/plain": [
       "Matrix([\n",
       "[-1,  0, 0,   0],\n",
       "[ 0, -1, 0, -60],\n",
       "[ 0,  0, 1,   0],\n",
       "[ 0,  0, 0,   1]])"
      ]
     },
     "execution_count": 86,
     "metadata": {},
     "output_type": "execute_result"
    }
   ],
   "source": [
    "m012=m01*m12*m23*m34*m45*m56*m67*m78*m89*m910*m1011*m1112\n",
    "m_012=m012.subs({theta1:t1,theta2:t2, theta3:t3,theta4:t4,theta5:t5,theta6:t6,theta7:t7,theta8:t8,theta9:t9,theta10:t10,theta11:t11,theta12:t12,theta13:t13,theta14:t14,Ch:c,A_l:al, B_l:bl, A_r:ar, B_r:br})\n",
    "m_012"
   ]
  },
  {
   "cell_type": "code",
   "execution_count": 90,
   "metadata": {},
   "outputs": [
    {
     "data": {
      "text/latex": [
       "$\\displaystyle \\left[\\begin{matrix}1 & 0 & 0 & 0\\\\0 & 0 & -1 & -60\\\\0 & 1 & 0 & 0\\\\0 & 0 & 0 & 1\\end{matrix}\\right]$"
      ],
      "text/plain": [
       "Matrix([\n",
       "[1, 0,  0,   0],\n",
       "[0, 0, -1, -60],\n",
       "[0, 1,  0,   0],\n",
       "[0, 0,  0,   1]])"
      ]
     },
     "execution_count": 90,
     "metadata": {},
     "output_type": "execute_result"
    }
   ],
   "source": [
    "m013=m01*m12*m23*m34*m45*m56*m67*m78*m89*m910*m1011*m1112*m1213\n",
    "m_013=m013.subs({theta1:t1,theta2:t2, theta3:t3,theta4:t4,theta5:t5,theta6:t6,theta7:t7,theta8:t8,theta9:t9,theta10:t10,theta11:t11,theta12:t12,theta13:t13,theta14:t14,Ch:c,A_l:al, B_l:bl, A_r:ar, B_r:br})\n",
    "m_013"
   ]
  },
  {
   "cell_type": "code",
   "execution_count": 91,
   "metadata": {},
   "outputs": [
    {
     "data": {
      "text/latex": [
       "$\\displaystyle \\left[\\begin{matrix}0 & 0 & 1 & 0\\\\0 & -1 & 0 & -60\\\\1 & 0 & 0 & 0\\\\0 & 0 & 0 & 1\\end{matrix}\\right]$"
      ],
      "text/plain": [
       "Matrix([\n",
       "[0,  0, 1,   0],\n",
       "[0, -1, 0, -60],\n",
       "[1,  0, 0,   0],\n",
       "[0,  0, 0,   1]])"
      ]
     },
     "execution_count": 91,
     "metadata": {},
     "output_type": "execute_result"
    }
   ],
   "source": [
    "m014=m01*m12*m23*m34*m45*m56*m67*m78*m89*m910*m1011*m1112*m1213*m1314\n",
    "m_014=m014.subs({theta1:t1,theta2:t2, theta3:t3,theta4:t4,theta5:t5,theta6:t6,theta7:t7,theta8:t8,theta9:t9,theta10:t10,theta11:t11,theta12:t12,theta13:t13,theta14:t14,Ch:c,A_l:al, B_l:bl, A_r:ar, B_r:br})\n",
    "m_014"
   ]
  },
  {
   "cell_type": "code",
   "execution_count": 73,
   "metadata": {},
   "outputs": [],
   "source": [
    "val=np.array(val).astype(np.float64)\n"
   ]
  },
  {
   "cell_type": "code",
   "execution_count": 74,
   "metadata": {},
   "outputs": [
    {
     "data": {
      "text/plain": [
       "array([[  0.,   1.,   0.,   0.],\n",
       "       [  0.,   0.,  -1., -60.],\n",
       "       [ -1.,   0.,   0.,   0.],\n",
       "       [  0.,   0.,   0.,   1.]])"
      ]
     },
     "execution_count": 74,
     "metadata": {},
     "output_type": "execute_result"
    }
   ],
   "source": [
    "m011=(m08*m89*m910*m1011)\n",
    "m011val\n"
   ]
  },
  {
   "cell_type": "code",
   "execution_count": null,
   "metadata": {},
   "outputs": [],
   "source": []
  },
  {
   "cell_type": "code",
   "execution_count": 110,
   "metadata": {},
   "outputs": [
    {
     "data": {
      "image/png": "[encoded data removed]",
      "text/plain": [
       "<Figure size 432x288 with 1 Axes>"
      ]
     },
     "metadata": {
      "needs_background": "light"
     },
     "output_type": "display_data"
    },
    {
     "data": {
      "image/png": "[encoded data removed]",
      "text/plain": [
       "<Figure size 432x288 with 1 Axes>"
      ]
     },
     "metadata": {
      "needs_background": "light"
     },
     "output_type": "display_data"
    }
   ],
   "source": [
    "import matplotlib.pyplot as plt\n",
    "from mpl_toolkits.mplot3d import axes3d\n",
    "import numpy as np\n",
    "fig = plt.figure()\n",
    "ax = plt.axes(projection='3d')\n",
    "axis\n",
    "\n",
    "x = [m_01[0,3],m_02[0,3],m_03[0,3],m_04[0,3],m_05[0,3],m_06[0,3],m_07[0,3],m_08[0,3],m_09[0,3],m_010[0,3],m_011[0,3]]\n",
    "y = [m_01[1,3],m_02[1,3],m_03[1,3],m_04[1,3],m_05[1,3],m_06[1,3],m_07[1,3],m_08[1,3],m_09[1,3],m_010[1,3],m_011[1,3]]\n",
    "z = [m_01[2,3],m_02[2,3],m_03[2,3],m_04[2,3],m_05[2,3],m_06[2,3],m_07[2,3],m_08[2,3],m_09[2,3],m_010[2,3],m_011[2,3]]\n",
    "ax.plot3D(x, y, z, 'gray')\n",
    "#ax.scatter3D(x, y, z, c=z, cmap='Greens');\n",
    "ax.set_xlabel('x-axis')\n",
    "ax.set_ylabel('y-axis')\n",
    "ax.set_zlabel('z-axis')\n",
    "\n",
    "plt.show()\n",
    "\n",
    "fig2 = plt.figure()\n",
    "plt.plot(x,y)\n",
    "plt.show()"
   ]
  },
  {
   "cell_type": "code",
   "execution_count": null,
   "metadata": {},
   "outputs": [],
   "source": []
  },
  {
   "cell_type": "code",
   "execution_count": null,
   "metadata": {},
   "outputs": [],
   "source": []
  }
 ],
 "metadata": {
  "kernelspec": {
   "display_name": "Python 3",
   "language": "python",
   "name": "python3"
  },
  "language_info": {
   "codemirror_mode": {
    "name": "ipython",
    "version": 3
   },
   "file_extension": ".py",
   "mimetype": "text/x-python",
   "name": "python",
   "nbconvert_exporter": "python",
   "pygments_lexer": "ipython3",
   "version": "3.5.2"
  }
 },
 "nbformat": 4,
 "nbformat_minor": 2
}
